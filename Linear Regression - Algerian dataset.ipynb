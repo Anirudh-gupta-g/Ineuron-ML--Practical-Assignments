{
 "cells": [
  {
   "cell_type": "code",
   "execution_count": 1,
   "metadata": {},
   "outputs": [],
   "source": [
    "import pandas as pd\n",
    "import numpy as np\n",
    "import seaborn as sns\n",
    "import matplotlib.pyplot as plt\n",
    "import plotly.express as px\n",
    "import warnings\n",
    "warnings.filterwarnings('ignore')\n",
    "\n",
    "%matplotlib inline"
   ]
  },
  {
   "cell_type": "code",
   "execution_count": 2,
   "metadata": {},
   "outputs": [
    {
     "data": {
      "text/html": [
       "<div>\n",
       "<style scoped>\n",
       "    .dataframe tbody tr th:only-of-type {\n",
       "        vertical-align: middle;\n",
       "    }\n",
       "\n",
       "    .dataframe tbody tr th {\n",
       "        vertical-align: top;\n",
       "    }\n",
       "\n",
       "    .dataframe thead th {\n",
       "        text-align: right;\n",
       "    }\n",
       "</style>\n",
       "<table border=\"1\" class=\"dataframe\">\n",
       "  <thead>\n",
       "    <tr style=\"text-align: right;\">\n",
       "      <th></th>\n",
       "      <th>day</th>\n",
       "      <th>month</th>\n",
       "      <th>year</th>\n",
       "      <th>Temperature</th>\n",
       "      <th>RH</th>\n",
       "      <th>Ws</th>\n",
       "      <th>Rain</th>\n",
       "      <th>FFMC</th>\n",
       "      <th>DMC</th>\n",
       "      <th>DC</th>\n",
       "      <th>ISI</th>\n",
       "      <th>BUI</th>\n",
       "      <th>FWI</th>\n",
       "      <th>Classes</th>\n",
       "    </tr>\n",
       "  </thead>\n",
       "  <tbody>\n",
       "    <tr>\n",
       "      <th>0</th>\n",
       "      <td>01</td>\n",
       "      <td>06</td>\n",
       "      <td>2012</td>\n",
       "      <td>29</td>\n",
       "      <td>57</td>\n",
       "      <td>18</td>\n",
       "      <td>0</td>\n",
       "      <td>65.7</td>\n",
       "      <td>3.4</td>\n",
       "      <td>7.6</td>\n",
       "      <td>1.3</td>\n",
       "      <td>3.4</td>\n",
       "      <td>0.5</td>\n",
       "      <td>not fire</td>\n",
       "    </tr>\n",
       "    <tr>\n",
       "      <th>1</th>\n",
       "      <td>02</td>\n",
       "      <td>06</td>\n",
       "      <td>2012</td>\n",
       "      <td>29</td>\n",
       "      <td>61</td>\n",
       "      <td>13</td>\n",
       "      <td>1.3</td>\n",
       "      <td>64.4</td>\n",
       "      <td>4.1</td>\n",
       "      <td>7.6</td>\n",
       "      <td>1</td>\n",
       "      <td>3.9</td>\n",
       "      <td>0.4</td>\n",
       "      <td>not fire</td>\n",
       "    </tr>\n",
       "    <tr>\n",
       "      <th>2</th>\n",
       "      <td>03</td>\n",
       "      <td>06</td>\n",
       "      <td>2012</td>\n",
       "      <td>26</td>\n",
       "      <td>82</td>\n",
       "      <td>22</td>\n",
       "      <td>13.1</td>\n",
       "      <td>47.1</td>\n",
       "      <td>2.5</td>\n",
       "      <td>7.1</td>\n",
       "      <td>0.3</td>\n",
       "      <td>2.7</td>\n",
       "      <td>0.1</td>\n",
       "      <td>not fire</td>\n",
       "    </tr>\n",
       "    <tr>\n",
       "      <th>3</th>\n",
       "      <td>04</td>\n",
       "      <td>06</td>\n",
       "      <td>2012</td>\n",
       "      <td>25</td>\n",
       "      <td>89</td>\n",
       "      <td>13</td>\n",
       "      <td>2.5</td>\n",
       "      <td>28.6</td>\n",
       "      <td>1.3</td>\n",
       "      <td>6.9</td>\n",
       "      <td>0</td>\n",
       "      <td>1.7</td>\n",
       "      <td>0</td>\n",
       "      <td>not fire</td>\n",
       "    </tr>\n",
       "    <tr>\n",
       "      <th>4</th>\n",
       "      <td>05</td>\n",
       "      <td>06</td>\n",
       "      <td>2012</td>\n",
       "      <td>27</td>\n",
       "      <td>77</td>\n",
       "      <td>16</td>\n",
       "      <td>0</td>\n",
       "      <td>64.8</td>\n",
       "      <td>3</td>\n",
       "      <td>14.2</td>\n",
       "      <td>1.2</td>\n",
       "      <td>3.9</td>\n",
       "      <td>0.5</td>\n",
       "      <td>not fire</td>\n",
       "    </tr>\n",
       "  </tbody>\n",
       "</table>\n",
       "</div>"
      ],
      "text/plain": [
       "  day month  year Temperature  RH  Ws Rain   FFMC  DMC    DC  ISI  BUI  FWI  \\\n",
       "0  01    06  2012          29  57  18     0  65.7  3.4   7.6  1.3  3.4  0.5   \n",
       "1  02    06  2012          29  61  13   1.3  64.4  4.1   7.6    1  3.9  0.4   \n",
       "2  03    06  2012          26  82  22  13.1  47.1  2.5   7.1  0.3  2.7  0.1   \n",
       "3  04    06  2012          25  89  13   2.5  28.6  1.3   6.9    0  1.7    0   \n",
       "4  05    06  2012          27  77  16     0  64.8    3  14.2  1.2  3.9  0.5   \n",
       "\n",
       "     Classes    \n",
       "0  not fire     \n",
       "1  not fire     \n",
       "2  not fire     \n",
       "3  not fire     \n",
       "4  not fire     "
      ]
     },
     "execution_count": 2,
     "metadata": {},
     "output_type": "execute_result"
    }
   ],
   "source": [
    "#Importing dataset\n",
    "ds = pd.read_csv('Algerian_forest_fire.csv', header =1)\n",
    "ds.head()"
   ]
  },
  {
   "cell_type": "code",
   "execution_count": 3,
   "metadata": {},
   "outputs": [
    {
     "data": {
      "text/plain": [
       "(246, 14)"
      ]
     },
     "execution_count": 3,
     "metadata": {},
     "output_type": "execute_result"
    }
   ],
   "source": [
    "ds.shape"
   ]
  },
  {
   "cell_type": "markdown",
   "metadata": {},
   "source": [
    "## Data Cleaning"
   ]
  },
  {
   "cell_type": "code",
   "execution_count": 4,
   "metadata": {},
   "outputs": [],
   "source": [
    "ds.drop([122,123,124],inplace=True)\n",
    "ds.reset_index(drop=True,inplace=True)\n",
    "ds['Region']=0"
   ]
  },
  {
   "cell_type": "code",
   "execution_count": 5,
   "metadata": {},
   "outputs": [],
   "source": [
    "for i in range(len(ds)):\n",
    "    if i<122:\n",
    "        ds['Region'][i]=0\n",
    "    else:\n",
    "        ds['Region'][i]=1"
   ]
  },
  {
   "cell_type": "code",
   "execution_count": 6,
   "metadata": {},
   "outputs": [
    {
     "data": {
      "text/html": [
       "<div>\n",
       "<style scoped>\n",
       "    .dataframe tbody tr th:only-of-type {\n",
       "        vertical-align: middle;\n",
       "    }\n",
       "\n",
       "    .dataframe tbody tr th {\n",
       "        vertical-align: top;\n",
       "    }\n",
       "\n",
       "    .dataframe thead th {\n",
       "        text-align: right;\n",
       "    }\n",
       "</style>\n",
       "<table border=\"1\" class=\"dataframe\">\n",
       "  <thead>\n",
       "    <tr style=\"text-align: right;\">\n",
       "      <th></th>\n",
       "      <th>day</th>\n",
       "      <th>month</th>\n",
       "      <th>year</th>\n",
       "      <th>Temperature</th>\n",
       "      <th>RH</th>\n",
       "      <th>Ws</th>\n",
       "      <th>Rain</th>\n",
       "      <th>FFMC</th>\n",
       "      <th>DMC</th>\n",
       "      <th>DC</th>\n",
       "      <th>ISI</th>\n",
       "      <th>BUI</th>\n",
       "      <th>FWI</th>\n",
       "      <th>Classes</th>\n",
       "      <th>Region</th>\n",
       "    </tr>\n",
       "  </thead>\n",
       "  <tbody>\n",
       "    <tr>\n",
       "      <th>0</th>\n",
       "      <td>01</td>\n",
       "      <td>06</td>\n",
       "      <td>2012</td>\n",
       "      <td>29</td>\n",
       "      <td>57</td>\n",
       "      <td>18</td>\n",
       "      <td>0</td>\n",
       "      <td>65.7</td>\n",
       "      <td>3.4</td>\n",
       "      <td>7.6</td>\n",
       "      <td>1.3</td>\n",
       "      <td>3.4</td>\n",
       "      <td>0.5</td>\n",
       "      <td>not fire</td>\n",
       "      <td>0</td>\n",
       "    </tr>\n",
       "    <tr>\n",
       "      <th>1</th>\n",
       "      <td>02</td>\n",
       "      <td>06</td>\n",
       "      <td>2012</td>\n",
       "      <td>29</td>\n",
       "      <td>61</td>\n",
       "      <td>13</td>\n",
       "      <td>1.3</td>\n",
       "      <td>64.4</td>\n",
       "      <td>4.1</td>\n",
       "      <td>7.6</td>\n",
       "      <td>1</td>\n",
       "      <td>3.9</td>\n",
       "      <td>0.4</td>\n",
       "      <td>not fire</td>\n",
       "      <td>0</td>\n",
       "    </tr>\n",
       "    <tr>\n",
       "      <th>2</th>\n",
       "      <td>03</td>\n",
       "      <td>06</td>\n",
       "      <td>2012</td>\n",
       "      <td>26</td>\n",
       "      <td>82</td>\n",
       "      <td>22</td>\n",
       "      <td>13.1</td>\n",
       "      <td>47.1</td>\n",
       "      <td>2.5</td>\n",
       "      <td>7.1</td>\n",
       "      <td>0.3</td>\n",
       "      <td>2.7</td>\n",
       "      <td>0.1</td>\n",
       "      <td>not fire</td>\n",
       "      <td>0</td>\n",
       "    </tr>\n",
       "    <tr>\n",
       "      <th>3</th>\n",
       "      <td>04</td>\n",
       "      <td>06</td>\n",
       "      <td>2012</td>\n",
       "      <td>25</td>\n",
       "      <td>89</td>\n",
       "      <td>13</td>\n",
       "      <td>2.5</td>\n",
       "      <td>28.6</td>\n",
       "      <td>1.3</td>\n",
       "      <td>6.9</td>\n",
       "      <td>0</td>\n",
       "      <td>1.7</td>\n",
       "      <td>0</td>\n",
       "      <td>not fire</td>\n",
       "      <td>0</td>\n",
       "    </tr>\n",
       "    <tr>\n",
       "      <th>4</th>\n",
       "      <td>05</td>\n",
       "      <td>06</td>\n",
       "      <td>2012</td>\n",
       "      <td>27</td>\n",
       "      <td>77</td>\n",
       "      <td>16</td>\n",
       "      <td>0</td>\n",
       "      <td>64.8</td>\n",
       "      <td>3</td>\n",
       "      <td>14.2</td>\n",
       "      <td>1.2</td>\n",
       "      <td>3.9</td>\n",
       "      <td>0.5</td>\n",
       "      <td>not fire</td>\n",
       "      <td>0</td>\n",
       "    </tr>\n",
       "    <tr>\n",
       "      <th>...</th>\n",
       "      <td>...</td>\n",
       "      <td>...</td>\n",
       "      <td>...</td>\n",
       "      <td>...</td>\n",
       "      <td>...</td>\n",
       "      <td>...</td>\n",
       "      <td>...</td>\n",
       "      <td>...</td>\n",
       "      <td>...</td>\n",
       "      <td>...</td>\n",
       "      <td>...</td>\n",
       "      <td>...</td>\n",
       "      <td>...</td>\n",
       "      <td>...</td>\n",
       "      <td>...</td>\n",
       "    </tr>\n",
       "    <tr>\n",
       "      <th>238</th>\n",
       "      <td>26</td>\n",
       "      <td>09</td>\n",
       "      <td>2012</td>\n",
       "      <td>30</td>\n",
       "      <td>65</td>\n",
       "      <td>14</td>\n",
       "      <td>0</td>\n",
       "      <td>85.4</td>\n",
       "      <td>16</td>\n",
       "      <td>44.5</td>\n",
       "      <td>4.5</td>\n",
       "      <td>16.9</td>\n",
       "      <td>6.5</td>\n",
       "      <td>fire</td>\n",
       "      <td>1</td>\n",
       "    </tr>\n",
       "    <tr>\n",
       "      <th>239</th>\n",
       "      <td>27</td>\n",
       "      <td>09</td>\n",
       "      <td>2012</td>\n",
       "      <td>28</td>\n",
       "      <td>87</td>\n",
       "      <td>15</td>\n",
       "      <td>4.4</td>\n",
       "      <td>41.1</td>\n",
       "      <td>6.5</td>\n",
       "      <td>8</td>\n",
       "      <td>0.1</td>\n",
       "      <td>6.2</td>\n",
       "      <td>0</td>\n",
       "      <td>not fire</td>\n",
       "      <td>1</td>\n",
       "    </tr>\n",
       "    <tr>\n",
       "      <th>240</th>\n",
       "      <td>28</td>\n",
       "      <td>09</td>\n",
       "      <td>2012</td>\n",
       "      <td>27</td>\n",
       "      <td>87</td>\n",
       "      <td>29</td>\n",
       "      <td>0.5</td>\n",
       "      <td>45.9</td>\n",
       "      <td>3.5</td>\n",
       "      <td>7.9</td>\n",
       "      <td>0.4</td>\n",
       "      <td>3.4</td>\n",
       "      <td>0.2</td>\n",
       "      <td>not fire</td>\n",
       "      <td>1</td>\n",
       "    </tr>\n",
       "    <tr>\n",
       "      <th>241</th>\n",
       "      <td>29</td>\n",
       "      <td>09</td>\n",
       "      <td>2012</td>\n",
       "      <td>24</td>\n",
       "      <td>54</td>\n",
       "      <td>18</td>\n",
       "      <td>0.1</td>\n",
       "      <td>79.7</td>\n",
       "      <td>4.3</td>\n",
       "      <td>15.2</td>\n",
       "      <td>1.7</td>\n",
       "      <td>5.1</td>\n",
       "      <td>0.7</td>\n",
       "      <td>not fire</td>\n",
       "      <td>1</td>\n",
       "    </tr>\n",
       "    <tr>\n",
       "      <th>242</th>\n",
       "      <td>30</td>\n",
       "      <td>09</td>\n",
       "      <td>2012</td>\n",
       "      <td>24</td>\n",
       "      <td>64</td>\n",
       "      <td>15</td>\n",
       "      <td>0.2</td>\n",
       "      <td>67.3</td>\n",
       "      <td>3.8</td>\n",
       "      <td>16.5</td>\n",
       "      <td>1.2</td>\n",
       "      <td>4.8</td>\n",
       "      <td>0.5</td>\n",
       "      <td>not fire</td>\n",
       "      <td>1</td>\n",
       "    </tr>\n",
       "  </tbody>\n",
       "</table>\n",
       "<p>243 rows × 15 columns</p>\n",
       "</div>"
      ],
      "text/plain": [
       "    day month  year Temperature  RH  Ws Rain   FFMC  DMC    DC  ISI   BUI  \\\n",
       "0    01    06  2012          29  57  18     0  65.7  3.4   7.6  1.3   3.4   \n",
       "1    02    06  2012          29  61  13   1.3  64.4  4.1   7.6    1   3.9   \n",
       "2    03    06  2012          26  82  22  13.1  47.1  2.5   7.1  0.3   2.7   \n",
       "3    04    06  2012          25  89  13   2.5  28.6  1.3   6.9    0   1.7   \n",
       "4    05    06  2012          27  77  16     0  64.8    3  14.2  1.2   3.9   \n",
       "..   ..   ...   ...         ...  ..  ..   ...   ...  ...   ...  ...   ...   \n",
       "238  26    09  2012          30  65  14     0  85.4   16  44.5  4.5  16.9   \n",
       "239  27    09  2012          28  87  15   4.4  41.1  6.5     8  0.1   6.2   \n",
       "240  28    09  2012          27  87  29   0.5  45.9  3.5   7.9  0.4   3.4   \n",
       "241  29    09  2012          24  54  18   0.1  79.7  4.3  15.2  1.7   5.1   \n",
       "242  30    09  2012          24  64  15   0.2  67.3  3.8  16.5  1.2   4.8   \n",
       "\n",
       "     FWI     Classes    Region  \n",
       "0    0.5   not fire          0  \n",
       "1    0.4   not fire          0  \n",
       "2    0.1   not fire          0  \n",
       "3      0   not fire          0  \n",
       "4    0.5   not fire          0  \n",
       "..   ...           ...     ...  \n",
       "238  6.5       fire          1  \n",
       "239    0   not fire          1  \n",
       "240  0.2   not fire          1  \n",
       "241  0.7   not fire          1  \n",
       "242  0.5  not fire           1  \n",
       "\n",
       "[243 rows x 15 columns]"
      ]
     },
     "execution_count": 6,
     "metadata": {},
     "output_type": "execute_result"
    }
   ],
   "source": [
    "ds"
   ]
  },
  {
   "cell_type": "code",
   "execution_count": 7,
   "metadata": {},
   "outputs": [
    {
     "data": {
      "text/plain": [
       "Index(['day', 'month', 'year', 'Temperature', ' RH', ' Ws', 'Rain ', 'FFMC',\n",
       "       'DMC', 'DC', 'ISI', 'BUI', 'FWI', 'Classes  ', 'Region'],\n",
       "      dtype='object')"
      ]
     },
     "execution_count": 7,
     "metadata": {},
     "output_type": "execute_result"
    }
   ],
   "source": [
    "ds.columns"
   ]
  },
  {
   "cell_type": "code",
   "execution_count": 8,
   "metadata": {},
   "outputs": [],
   "source": [
    "#Trimming the extra space in column names\n",
    "for i in ds.columns:\n",
    "    ds.rename(columns={i:i.strip()},inplace = True)"
   ]
  },
  {
   "cell_type": "code",
   "execution_count": 9,
   "metadata": {},
   "outputs": [
    {
     "data": {
      "text/plain": [
       "Index(['day', 'month', 'year', 'Temperature', 'RH', 'Ws', 'Rain', 'FFMC',\n",
       "       'DMC', 'DC', 'ISI', 'BUI', 'FWI', 'Classes', 'Region'],\n",
       "      dtype='object')"
      ]
     },
     "execution_count": 9,
     "metadata": {},
     "output_type": "execute_result"
    }
   ],
   "source": [
    "ds.columns"
   ]
  },
  {
   "cell_type": "code",
   "execution_count": 10,
   "metadata": {},
   "outputs": [
    {
     "data": {
      "text/plain": [
       "day            0\n",
       "month          0\n",
       "year           0\n",
       "Temperature    0\n",
       "RH             0\n",
       "Ws             0\n",
       "Rain           0\n",
       "FFMC           0\n",
       "DMC            0\n",
       "DC             0\n",
       "ISI            0\n",
       "BUI            0\n",
       "FWI            0\n",
       "Classes        1\n",
       "Region         0\n",
       "dtype: int64"
      ]
     },
     "execution_count": 10,
     "metadata": {},
     "output_type": "execute_result"
    }
   ],
   "source": [
    "#checking fo null data\n",
    "ds.isnull().sum()"
   ]
  },
  {
   "cell_type": "code",
   "execution_count": 11,
   "metadata": {},
   "outputs": [
    {
     "data": {
      "text/plain": [
       "0       not fire   \n",
       "1       not fire   \n",
       "2       not fire   \n",
       "3       not fire   \n",
       "4       not fire   \n",
       "           ...     \n",
       "238         fire   \n",
       "239     not fire   \n",
       "240     not fire   \n",
       "241     not fire   \n",
       "242    not fire    \n",
       "Name: Classes, Length: 243, dtype: object"
      ]
     },
     "execution_count": 11,
     "metadata": {},
     "output_type": "execute_result"
    }
   ],
   "source": [
    "ds['Classes']"
   ]
  },
  {
   "cell_type": "code",
   "execution_count": 13,
   "metadata": {},
   "outputs": [
    {
     "data": {
      "text/plain": [
       "nan"
      ]
     },
     "execution_count": 13,
     "metadata": {},
     "output_type": "execute_result"
    }
   ],
   "source": [
    "ds['Classes'][164]"
   ]
  },
  {
   "cell_type": "code",
   "execution_count": 14,
   "metadata": {},
   "outputs": [
    {
     "data": {
      "text/plain": [
       "day                 14\n",
       "month               07\n",
       "year              2012\n",
       "Temperature         37\n",
       "RH                  37\n",
       "Ws                  18\n",
       "Rain               0.2\n",
       "FFMC              88.9\n",
       "DMC               12.9\n",
       "DC              14.6 9\n",
       "ISI               12.5\n",
       "BUI               10.4\n",
       "FWI            fire   \n",
       "Classes            NaN\n",
       "Region               1\n",
       "Name: 164, dtype: object"
      ]
     },
     "execution_count": 14,
     "metadata": {},
     "output_type": "execute_result"
    }
   ],
   "source": [
    "ds.iloc[164]"
   ]
  },
  {
   "cell_type": "code",
   "execution_count": 15,
   "metadata": {},
   "outputs": [],
   "source": [
    "ds.at[164,'DC']=14.6\n",
    "ds.at[164,'ISI']=9\n",
    "ds.at[164,'BUI']=12.5\n",
    "ds.at[164,'FWI']=10.4\n",
    "ds.at[164,'Classes']='fire'"
   ]
  },
  {
   "cell_type": "code",
   "execution_count": 16,
   "metadata": {},
   "outputs": [
    {
     "data": {
      "text/plain": [
       "day              14\n",
       "month            07\n",
       "year           2012\n",
       "Temperature      37\n",
       "RH               37\n",
       "Ws               18\n",
       "Rain            0.2\n",
       "FFMC           88.9\n",
       "DMC            12.9\n",
       "DC             14.6\n",
       "ISI               9\n",
       "BUI            12.5\n",
       "FWI            10.4\n",
       "Classes        fire\n",
       "Region            1\n",
       "Name: 164, dtype: object"
      ]
     },
     "execution_count": 16,
     "metadata": {},
     "output_type": "execute_result"
    }
   ],
   "source": [
    "ds.iloc[164]"
   ]
  },
  {
   "cell_type": "code",
   "execution_count": 17,
   "metadata": {},
   "outputs": [
    {
     "data": {
      "text/plain": [
       "day            0\n",
       "month          0\n",
       "year           0\n",
       "Temperature    0\n",
       "RH             0\n",
       "Ws             0\n",
       "Rain           0\n",
       "FFMC           0\n",
       "DMC            0\n",
       "DC             0\n",
       "ISI            0\n",
       "BUI            0\n",
       "FWI            0\n",
       "Classes        0\n",
       "Region         0\n",
       "dtype: int64"
      ]
     },
     "execution_count": 17,
     "metadata": {},
     "output_type": "execute_result"
    }
   ],
   "source": [
    "#Checking for null values again\n",
    "ds.isnull().sum()"
   ]
  },
  {
   "cell_type": "code",
   "execution_count": 18,
   "metadata": {},
   "outputs": [
    {
     "data": {
      "text/plain": [
       "day            0\n",
       "month          0\n",
       "year           0\n",
       "Temperature    0\n",
       "RH             0\n",
       "Ws             0\n",
       "Rain           0\n",
       "FFMC           0\n",
       "DMC            0\n",
       "DC             0\n",
       "ISI            0\n",
       "BUI            0\n",
       "FWI            0\n",
       "Classes        0\n",
       "Region         0\n",
       "dtype: int64"
      ]
     },
     "execution_count": 18,
     "metadata": {},
     "output_type": "execute_result"
    }
   ],
   "source": [
    "#checking for unique values\n",
    "ds.isna().sum()"
   ]
  },
  {
   "cell_type": "code",
   "execution_count": 19,
   "metadata": {},
   "outputs": [
    {
     "data": {
      "text/html": [
       "<div>\n",
       "<style scoped>\n",
       "    .dataframe tbody tr th:only-of-type {\n",
       "        vertical-align: middle;\n",
       "    }\n",
       "\n",
       "    .dataframe tbody tr th {\n",
       "        vertical-align: top;\n",
       "    }\n",
       "\n",
       "    .dataframe thead th {\n",
       "        text-align: right;\n",
       "    }\n",
       "</style>\n",
       "<table border=\"1\" class=\"dataframe\">\n",
       "  <thead>\n",
       "    <tr style=\"text-align: right;\">\n",
       "      <th></th>\n",
       "      <th>day</th>\n",
       "      <th>month</th>\n",
       "      <th>year</th>\n",
       "      <th>Temperature</th>\n",
       "      <th>RH</th>\n",
       "      <th>Ws</th>\n",
       "      <th>Rain</th>\n",
       "      <th>FFMC</th>\n",
       "      <th>DMC</th>\n",
       "      <th>DC</th>\n",
       "      <th>ISI</th>\n",
       "      <th>BUI</th>\n",
       "      <th>FWI</th>\n",
       "      <th>Classes</th>\n",
       "      <th>Region</th>\n",
       "    </tr>\n",
       "  </thead>\n",
       "  <tbody>\n",
       "    <tr>\n",
       "      <th>0</th>\n",
       "      <td>01</td>\n",
       "      <td>06</td>\n",
       "      <td>2012</td>\n",
       "      <td>29</td>\n",
       "      <td>57</td>\n",
       "      <td>18</td>\n",
       "      <td>0</td>\n",
       "      <td>65.7</td>\n",
       "      <td>3.4</td>\n",
       "      <td>7.6</td>\n",
       "      <td>1.3</td>\n",
       "      <td>3.4</td>\n",
       "      <td>0.5</td>\n",
       "      <td>not fire</td>\n",
       "      <td>0</td>\n",
       "    </tr>\n",
       "    <tr>\n",
       "      <th>1</th>\n",
       "      <td>02</td>\n",
       "      <td>06</td>\n",
       "      <td>2012</td>\n",
       "      <td>29</td>\n",
       "      <td>61</td>\n",
       "      <td>13</td>\n",
       "      <td>1.3</td>\n",
       "      <td>64.4</td>\n",
       "      <td>4.1</td>\n",
       "      <td>7.6</td>\n",
       "      <td>1</td>\n",
       "      <td>3.9</td>\n",
       "      <td>0.4</td>\n",
       "      <td>not fire</td>\n",
       "      <td>0</td>\n",
       "    </tr>\n",
       "    <tr>\n",
       "      <th>2</th>\n",
       "      <td>03</td>\n",
       "      <td>06</td>\n",
       "      <td>2012</td>\n",
       "      <td>26</td>\n",
       "      <td>82</td>\n",
       "      <td>22</td>\n",
       "      <td>13.1</td>\n",
       "      <td>47.1</td>\n",
       "      <td>2.5</td>\n",
       "      <td>7.1</td>\n",
       "      <td>0.3</td>\n",
       "      <td>2.7</td>\n",
       "      <td>0.1</td>\n",
       "      <td>not fire</td>\n",
       "      <td>0</td>\n",
       "    </tr>\n",
       "    <tr>\n",
       "      <th>3</th>\n",
       "      <td>04</td>\n",
       "      <td>06</td>\n",
       "      <td>2012</td>\n",
       "      <td>25</td>\n",
       "      <td>89</td>\n",
       "      <td>13</td>\n",
       "      <td>2.5</td>\n",
       "      <td>28.6</td>\n",
       "      <td>1.3</td>\n",
       "      <td>6.9</td>\n",
       "      <td>0</td>\n",
       "      <td>1.7</td>\n",
       "      <td>0</td>\n",
       "      <td>not fire</td>\n",
       "      <td>0</td>\n",
       "    </tr>\n",
       "    <tr>\n",
       "      <th>4</th>\n",
       "      <td>05</td>\n",
       "      <td>06</td>\n",
       "      <td>2012</td>\n",
       "      <td>27</td>\n",
       "      <td>77</td>\n",
       "      <td>16</td>\n",
       "      <td>0</td>\n",
       "      <td>64.8</td>\n",
       "      <td>3</td>\n",
       "      <td>14.2</td>\n",
       "      <td>1.2</td>\n",
       "      <td>3.9</td>\n",
       "      <td>0.5</td>\n",
       "      <td>not fire</td>\n",
       "      <td>0</td>\n",
       "    </tr>\n",
       "  </tbody>\n",
       "</table>\n",
       "</div>"
      ],
      "text/plain": [
       "  day month  year Temperature  RH  Ws  Rain  FFMC  DMC    DC  ISI  BUI  FWI  \\\n",
       "0  01    06  2012          29  57  18     0  65.7  3.4   7.6  1.3  3.4  0.5   \n",
       "1  02    06  2012          29  61  13   1.3  64.4  4.1   7.6    1  3.9  0.4   \n",
       "2  03    06  2012          26  82  22  13.1  47.1  2.5   7.1  0.3  2.7  0.1   \n",
       "3  04    06  2012          25  89  13   2.5  28.6  1.3   6.9    0  1.7    0   \n",
       "4  05    06  2012          27  77  16     0  64.8    3  14.2  1.2  3.9  0.5   \n",
       "\n",
       "       Classes  Region  \n",
       "0  not fire          0  \n",
       "1  not fire          0  \n",
       "2  not fire          0  \n",
       "3  not fire          0  \n",
       "4  not fire          0  "
      ]
     },
     "execution_count": 19,
     "metadata": {},
     "output_type": "execute_result"
    }
   ],
   "source": [
    "ds.head()"
   ]
  },
  {
   "cell_type": "code",
   "execution_count": 21,
   "metadata": {},
   "outputs": [
    {
     "data": {
      "text/plain": [
       "array(['not fire   ', 'fire   ', 'fire', 'fire ', 'not fire', 'not fire ',\n",
       "       'not fire     ', 'not fire    '], dtype=object)"
      ]
     },
     "execution_count": 21,
     "metadata": {},
     "output_type": "execute_result"
    }
   ],
   "source": [
    "ds['Classes'].unique()"
   ]
  },
  {
   "cell_type": "markdown",
   "metadata": {},
   "source": [
    "we can observe that there are extra spaces in the values"
   ]
  },
  {
   "cell_type": "code",
   "execution_count": 22,
   "metadata": {},
   "outputs": [],
   "source": [
    "#Trimming the extra spaces"
   ]
  },
  {
   "cell_type": "code",
   "execution_count": 23,
   "metadata": {},
   "outputs": [],
   "source": [
    "ds['Classes']=[i.strip() for i in ds['Classes']]"
   ]
  },
  {
   "cell_type": "code",
   "execution_count": 24,
   "metadata": {},
   "outputs": [
    {
     "data": {
      "text/plain": [
       "array(['not fire', 'fire'], dtype=object)"
      ]
     },
     "execution_count": 24,
     "metadata": {},
     "output_type": "execute_result"
    }
   ],
   "source": [
    "ds['Classes'].unique()"
   ]
  },
  {
   "cell_type": "code",
   "execution_count": 25,
   "metadata": {},
   "outputs": [
    {
     "data": {
      "text/html": [
       "<div>\n",
       "<style scoped>\n",
       "    .dataframe tbody tr th:only-of-type {\n",
       "        vertical-align: middle;\n",
       "    }\n",
       "\n",
       "    .dataframe tbody tr th {\n",
       "        vertical-align: top;\n",
       "    }\n",
       "\n",
       "    .dataframe thead th {\n",
       "        text-align: right;\n",
       "    }\n",
       "</style>\n",
       "<table border=\"1\" class=\"dataframe\">\n",
       "  <thead>\n",
       "    <tr style=\"text-align: right;\">\n",
       "      <th></th>\n",
       "      <th>day</th>\n",
       "      <th>month</th>\n",
       "      <th>year</th>\n",
       "      <th>Temperature</th>\n",
       "      <th>RH</th>\n",
       "      <th>Ws</th>\n",
       "      <th>Rain</th>\n",
       "      <th>FFMC</th>\n",
       "      <th>DMC</th>\n",
       "      <th>DC</th>\n",
       "      <th>ISI</th>\n",
       "      <th>BUI</th>\n",
       "      <th>FWI</th>\n",
       "      <th>Classes</th>\n",
       "      <th>Region</th>\n",
       "    </tr>\n",
       "  </thead>\n",
       "  <tbody>\n",
       "    <tr>\n",
       "      <th>0</th>\n",
       "      <td>01</td>\n",
       "      <td>06</td>\n",
       "      <td>2012</td>\n",
       "      <td>29</td>\n",
       "      <td>57</td>\n",
       "      <td>18</td>\n",
       "      <td>0</td>\n",
       "      <td>65.7</td>\n",
       "      <td>3.4</td>\n",
       "      <td>7.6</td>\n",
       "      <td>1.3</td>\n",
       "      <td>3.4</td>\n",
       "      <td>0.5</td>\n",
       "      <td>not fire</td>\n",
       "      <td>0</td>\n",
       "    </tr>\n",
       "    <tr>\n",
       "      <th>1</th>\n",
       "      <td>02</td>\n",
       "      <td>06</td>\n",
       "      <td>2012</td>\n",
       "      <td>29</td>\n",
       "      <td>61</td>\n",
       "      <td>13</td>\n",
       "      <td>1.3</td>\n",
       "      <td>64.4</td>\n",
       "      <td>4.1</td>\n",
       "      <td>7.6</td>\n",
       "      <td>1</td>\n",
       "      <td>3.9</td>\n",
       "      <td>0.4</td>\n",
       "      <td>not fire</td>\n",
       "      <td>0</td>\n",
       "    </tr>\n",
       "    <tr>\n",
       "      <th>2</th>\n",
       "      <td>03</td>\n",
       "      <td>06</td>\n",
       "      <td>2012</td>\n",
       "      <td>26</td>\n",
       "      <td>82</td>\n",
       "      <td>22</td>\n",
       "      <td>13.1</td>\n",
       "      <td>47.1</td>\n",
       "      <td>2.5</td>\n",
       "      <td>7.1</td>\n",
       "      <td>0.3</td>\n",
       "      <td>2.7</td>\n",
       "      <td>0.1</td>\n",
       "      <td>not fire</td>\n",
       "      <td>0</td>\n",
       "    </tr>\n",
       "    <tr>\n",
       "      <th>3</th>\n",
       "      <td>04</td>\n",
       "      <td>06</td>\n",
       "      <td>2012</td>\n",
       "      <td>25</td>\n",
       "      <td>89</td>\n",
       "      <td>13</td>\n",
       "      <td>2.5</td>\n",
       "      <td>28.6</td>\n",
       "      <td>1.3</td>\n",
       "      <td>6.9</td>\n",
       "      <td>0</td>\n",
       "      <td>1.7</td>\n",
       "      <td>0</td>\n",
       "      <td>not fire</td>\n",
       "      <td>0</td>\n",
       "    </tr>\n",
       "    <tr>\n",
       "      <th>4</th>\n",
       "      <td>05</td>\n",
       "      <td>06</td>\n",
       "      <td>2012</td>\n",
       "      <td>27</td>\n",
       "      <td>77</td>\n",
       "      <td>16</td>\n",
       "      <td>0</td>\n",
       "      <td>64.8</td>\n",
       "      <td>3</td>\n",
       "      <td>14.2</td>\n",
       "      <td>1.2</td>\n",
       "      <td>3.9</td>\n",
       "      <td>0.5</td>\n",
       "      <td>not fire</td>\n",
       "      <td>0</td>\n",
       "    </tr>\n",
       "  </tbody>\n",
       "</table>\n",
       "</div>"
      ],
      "text/plain": [
       "  day month  year Temperature  RH  Ws  Rain  FFMC  DMC    DC  ISI  BUI  FWI  \\\n",
       "0  01    06  2012          29  57  18     0  65.7  3.4   7.6  1.3  3.4  0.5   \n",
       "1  02    06  2012          29  61  13   1.3  64.4  4.1   7.6    1  3.9  0.4   \n",
       "2  03    06  2012          26  82  22  13.1  47.1  2.5   7.1  0.3  2.7  0.1   \n",
       "3  04    06  2012          25  89  13   2.5  28.6  1.3   6.9    0  1.7    0   \n",
       "4  05    06  2012          27  77  16     0  64.8    3  14.2  1.2  3.9  0.5   \n",
       "\n",
       "    Classes  Region  \n",
       "0  not fire       0  \n",
       "1  not fire       0  \n",
       "2  not fire       0  \n",
       "3  not fire       0  \n",
       "4  not fire       0  "
      ]
     },
     "execution_count": 25,
     "metadata": {},
     "output_type": "execute_result"
    }
   ],
   "source": [
    "ds.head()"
   ]
  },
  {
   "cell_type": "markdown",
   "metadata": {},
   "source": [
    "We can notice that day and year column does not have any impact on the dataset "
   ]
  },
  {
   "cell_type": "code",
   "execution_count": 26,
   "metadata": {},
   "outputs": [
    {
     "data": {
      "text/html": [
       "<div>\n",
       "<style scoped>\n",
       "    .dataframe tbody tr th:only-of-type {\n",
       "        vertical-align: middle;\n",
       "    }\n",
       "\n",
       "    .dataframe tbody tr th {\n",
       "        vertical-align: top;\n",
       "    }\n",
       "\n",
       "    .dataframe thead th {\n",
       "        text-align: right;\n",
       "    }\n",
       "</style>\n",
       "<table border=\"1\" class=\"dataframe\">\n",
       "  <thead>\n",
       "    <tr style=\"text-align: right;\">\n",
       "      <th></th>\n",
       "      <th>month</th>\n",
       "      <th>Temperature</th>\n",
       "      <th>RH</th>\n",
       "      <th>Ws</th>\n",
       "      <th>Rain</th>\n",
       "      <th>FFMC</th>\n",
       "      <th>DMC</th>\n",
       "      <th>DC</th>\n",
       "      <th>ISI</th>\n",
       "      <th>BUI</th>\n",
       "      <th>FWI</th>\n",
       "      <th>Classes</th>\n",
       "      <th>Region</th>\n",
       "    </tr>\n",
       "  </thead>\n",
       "  <tbody>\n",
       "    <tr>\n",
       "      <th>0</th>\n",
       "      <td>06</td>\n",
       "      <td>29</td>\n",
       "      <td>57</td>\n",
       "      <td>18</td>\n",
       "      <td>0</td>\n",
       "      <td>65.7</td>\n",
       "      <td>3.4</td>\n",
       "      <td>7.6</td>\n",
       "      <td>1.3</td>\n",
       "      <td>3.4</td>\n",
       "      <td>0.5</td>\n",
       "      <td>not fire</td>\n",
       "      <td>0</td>\n",
       "    </tr>\n",
       "    <tr>\n",
       "      <th>1</th>\n",
       "      <td>06</td>\n",
       "      <td>29</td>\n",
       "      <td>61</td>\n",
       "      <td>13</td>\n",
       "      <td>1.3</td>\n",
       "      <td>64.4</td>\n",
       "      <td>4.1</td>\n",
       "      <td>7.6</td>\n",
       "      <td>1</td>\n",
       "      <td>3.9</td>\n",
       "      <td>0.4</td>\n",
       "      <td>not fire</td>\n",
       "      <td>0</td>\n",
       "    </tr>\n",
       "    <tr>\n",
       "      <th>2</th>\n",
       "      <td>06</td>\n",
       "      <td>26</td>\n",
       "      <td>82</td>\n",
       "      <td>22</td>\n",
       "      <td>13.1</td>\n",
       "      <td>47.1</td>\n",
       "      <td>2.5</td>\n",
       "      <td>7.1</td>\n",
       "      <td>0.3</td>\n",
       "      <td>2.7</td>\n",
       "      <td>0.1</td>\n",
       "      <td>not fire</td>\n",
       "      <td>0</td>\n",
       "    </tr>\n",
       "    <tr>\n",
       "      <th>3</th>\n",
       "      <td>06</td>\n",
       "      <td>25</td>\n",
       "      <td>89</td>\n",
       "      <td>13</td>\n",
       "      <td>2.5</td>\n",
       "      <td>28.6</td>\n",
       "      <td>1.3</td>\n",
       "      <td>6.9</td>\n",
       "      <td>0</td>\n",
       "      <td>1.7</td>\n",
       "      <td>0</td>\n",
       "      <td>not fire</td>\n",
       "      <td>0</td>\n",
       "    </tr>\n",
       "    <tr>\n",
       "      <th>4</th>\n",
       "      <td>06</td>\n",
       "      <td>27</td>\n",
       "      <td>77</td>\n",
       "      <td>16</td>\n",
       "      <td>0</td>\n",
       "      <td>64.8</td>\n",
       "      <td>3</td>\n",
       "      <td>14.2</td>\n",
       "      <td>1.2</td>\n",
       "      <td>3.9</td>\n",
       "      <td>0.5</td>\n",
       "      <td>not fire</td>\n",
       "      <td>0</td>\n",
       "    </tr>\n",
       "  </tbody>\n",
       "</table>\n",
       "</div>"
      ],
      "text/plain": [
       "  month Temperature  RH  Ws  Rain  FFMC  DMC    DC  ISI  BUI  FWI   Classes  \\\n",
       "0    06          29  57  18     0  65.7  3.4   7.6  1.3  3.4  0.5  not fire   \n",
       "1    06          29  61  13   1.3  64.4  4.1   7.6    1  3.9  0.4  not fire   \n",
       "2    06          26  82  22  13.1  47.1  2.5   7.1  0.3  2.7  0.1  not fire   \n",
       "3    06          25  89  13   2.5  28.6  1.3   6.9    0  1.7    0  not fire   \n",
       "4    06          27  77  16     0  64.8    3  14.2  1.2  3.9  0.5  not fire   \n",
       "\n",
       "   Region  \n",
       "0       0  \n",
       "1       0  \n",
       "2       0  \n",
       "3       0  \n",
       "4       0  "
      ]
     },
     "execution_count": 26,
     "metadata": {},
     "output_type": "execute_result"
    }
   ],
   "source": [
    "ds.drop(columns=['year','day'],inplace =True)\n",
    "ds.head()"
   ]
  },
  {
   "cell_type": "code",
   "execution_count": 27,
   "metadata": {},
   "outputs": [
    {
     "name": "stdout",
     "output_type": "stream",
     "text": [
      "<class 'pandas.core.frame.DataFrame'>\n",
      "RangeIndex: 243 entries, 0 to 242\n",
      "Data columns (total 13 columns):\n",
      " #   Column       Non-Null Count  Dtype \n",
      "---  ------       --------------  ----- \n",
      " 0   month        243 non-null    object\n",
      " 1   Temperature  243 non-null    object\n",
      " 2   RH           243 non-null    object\n",
      " 3   Ws           243 non-null    object\n",
      " 4   Rain         243 non-null    object\n",
      " 5   FFMC         243 non-null    object\n",
      " 6   DMC          243 non-null    object\n",
      " 7   DC           243 non-null    object\n",
      " 8   ISI          243 non-null    object\n",
      " 9   BUI          243 non-null    object\n",
      " 10  FWI          243 non-null    object\n",
      " 11  Classes      243 non-null    object\n",
      " 12  Region       243 non-null    int64 \n",
      "dtypes: int64(1), object(12)\n",
      "memory usage: 24.8+ KB\n"
     ]
    }
   ],
   "source": [
    "#Checking for datatypes of columns\n",
    "ds.info()"
   ]
  },
  {
   "cell_type": "markdown",
   "metadata": {},
   "source": [
    "From above we can see that columns month,temperature,RH,Ws,Rain,FFMC,DMC,DC,ISI,BUI,FWI are having categorical data which needs to be Numerical while region is numerical, which should be Categorical"
   ]
  },
  {
   "cell_type": "code",
   "execution_count": 34,
   "metadata": {},
   "outputs": [
    {
     "data": {
      "text/plain": [
       "Index(['month', 'Temperature', 'RH', 'Ws', 'Rain', 'FFMC', 'DMC', 'DC', 'ISI',\n",
       "       'BUI', 'FWI', 'Classes', 'Region'],\n",
       "      dtype='object')"
      ]
     },
     "execution_count": 34,
     "metadata": {},
     "output_type": "execute_result"
    }
   ],
   "source": [
    "ds.columns"
   ]
  },
  {
   "cell_type": "code",
   "execution_count": 36,
   "metadata": {},
   "outputs": [],
   "source": [
    "col=['Temperature', 'RH', 'Ws', 'Rain', 'FFMC', 'DMC', 'DC', 'ISI','BUI', 'FWI']\n",
    "ds[col]=ds[col].apply(pd.to_numeric)"
   ]
  },
  {
   "cell_type": "code",
   "execution_count": 37,
   "metadata": {},
   "outputs": [],
   "source": [
    "ds['Region']=ds['Region'].apply(str)"
   ]
  },
  {
   "cell_type": "code",
   "execution_count": 38,
   "metadata": {},
   "outputs": [
    {
     "data": {
      "text/plain": [
       "month           object\n",
       "Temperature      int64\n",
       "RH               int64\n",
       "Ws               int64\n",
       "Rain           float64\n",
       "FFMC           float64\n",
       "DMC            float64\n",
       "DC             float64\n",
       "ISI            float64\n",
       "BUI            float64\n",
       "FWI            float64\n",
       "Classes         object\n",
       "Region          object\n",
       "dtype: object"
      ]
     },
     "execution_count": 38,
     "metadata": {},
     "output_type": "execute_result"
    }
   ],
   "source": [
    "ds.dtypes"
   ]
  },
  {
   "cell_type": "code",
   "execution_count": 41,
   "metadata": {},
   "outputs": [
    {
     "data": {
      "text/plain": [
       "0"
      ]
     },
     "execution_count": 41,
     "metadata": {},
     "output_type": "execute_result"
    }
   ],
   "source": [
    "#Checking for duplicates\n",
    "ds.duplicated().sum()"
   ]
  },
  {
   "cell_type": "markdown",
   "metadata": {},
   "source": [
    "## Statistical Analysis"
   ]
  },
  {
   "cell_type": "code",
   "execution_count": 43,
   "metadata": {},
   "outputs": [
    {
     "data": {
      "text/html": [
       "<div>\n",
       "<style scoped>\n",
       "    .dataframe tbody tr th:only-of-type {\n",
       "        vertical-align: middle;\n",
       "    }\n",
       "\n",
       "    .dataframe tbody tr th {\n",
       "        vertical-align: top;\n",
       "    }\n",
       "\n",
       "    .dataframe thead th {\n",
       "        text-align: right;\n",
       "    }\n",
       "</style>\n",
       "<table border=\"1\" class=\"dataframe\">\n",
       "  <thead>\n",
       "    <tr style=\"text-align: right;\">\n",
       "      <th></th>\n",
       "      <th>count</th>\n",
       "      <th>mean</th>\n",
       "      <th>std</th>\n",
       "      <th>min</th>\n",
       "      <th>25%</th>\n",
       "      <th>50%</th>\n",
       "      <th>75%</th>\n",
       "      <th>max</th>\n",
       "    </tr>\n",
       "  </thead>\n",
       "  <tbody>\n",
       "    <tr>\n",
       "      <th>Temperature</th>\n",
       "      <td>243.0</td>\n",
       "      <td>32.172840</td>\n",
       "      <td>3.641327</td>\n",
       "      <td>22.0</td>\n",
       "      <td>30.00</td>\n",
       "      <td>32.0</td>\n",
       "      <td>35.00</td>\n",
       "      <td>42.0</td>\n",
       "    </tr>\n",
       "    <tr>\n",
       "      <th>RH</th>\n",
       "      <td>243.0</td>\n",
       "      <td>61.901235</td>\n",
       "      <td>14.903495</td>\n",
       "      <td>21.0</td>\n",
       "      <td>52.00</td>\n",
       "      <td>63.0</td>\n",
       "      <td>73.50</td>\n",
       "      <td>90.0</td>\n",
       "    </tr>\n",
       "    <tr>\n",
       "      <th>Ws</th>\n",
       "      <td>243.0</td>\n",
       "      <td>15.518519</td>\n",
       "      <td>2.806918</td>\n",
       "      <td>6.0</td>\n",
       "      <td>14.00</td>\n",
       "      <td>15.0</td>\n",
       "      <td>17.00</td>\n",
       "      <td>29.0</td>\n",
       "    </tr>\n",
       "    <tr>\n",
       "      <th>Rain</th>\n",
       "      <td>243.0</td>\n",
       "      <td>0.760905</td>\n",
       "      <td>2.003528</td>\n",
       "      <td>0.0</td>\n",
       "      <td>0.00</td>\n",
       "      <td>0.0</td>\n",
       "      <td>0.50</td>\n",
       "      <td>16.8</td>\n",
       "    </tr>\n",
       "    <tr>\n",
       "      <th>FFMC</th>\n",
       "      <td>243.0</td>\n",
       "      <td>77.973251</td>\n",
       "      <td>14.304628</td>\n",
       "      <td>28.6</td>\n",
       "      <td>72.45</td>\n",
       "      <td>83.7</td>\n",
       "      <td>88.30</td>\n",
       "      <td>96.0</td>\n",
       "    </tr>\n",
       "    <tr>\n",
       "      <th>DMC</th>\n",
       "      <td>243.0</td>\n",
       "      <td>14.723457</td>\n",
       "      <td>12.368735</td>\n",
       "      <td>0.7</td>\n",
       "      <td>5.80</td>\n",
       "      <td>11.3</td>\n",
       "      <td>20.80</td>\n",
       "      <td>65.9</td>\n",
       "    </tr>\n",
       "    <tr>\n",
       "      <th>DC</th>\n",
       "      <td>243.0</td>\n",
       "      <td>49.457202</td>\n",
       "      <td>47.644493</td>\n",
       "      <td>6.9</td>\n",
       "      <td>14.40</td>\n",
       "      <td>33.1</td>\n",
       "      <td>69.10</td>\n",
       "      <td>220.4</td>\n",
       "    </tr>\n",
       "    <tr>\n",
       "      <th>ISI</th>\n",
       "      <td>243.0</td>\n",
       "      <td>4.776955</td>\n",
       "      <td>4.154571</td>\n",
       "      <td>0.0</td>\n",
       "      <td>1.40</td>\n",
       "      <td>3.5</td>\n",
       "      <td>7.30</td>\n",
       "      <td>19.0</td>\n",
       "    </tr>\n",
       "    <tr>\n",
       "      <th>BUI</th>\n",
       "      <td>243.0</td>\n",
       "      <td>16.730453</td>\n",
       "      <td>14.202874</td>\n",
       "      <td>1.1</td>\n",
       "      <td>6.05</td>\n",
       "      <td>12.5</td>\n",
       "      <td>22.65</td>\n",
       "      <td>68.0</td>\n",
       "    </tr>\n",
       "    <tr>\n",
       "      <th>FWI</th>\n",
       "      <td>243.0</td>\n",
       "      <td>7.077366</td>\n",
       "      <td>7.430612</td>\n",
       "      <td>0.0</td>\n",
       "      <td>0.75</td>\n",
       "      <td>4.7</td>\n",
       "      <td>11.45</td>\n",
       "      <td>31.1</td>\n",
       "    </tr>\n",
       "  </tbody>\n",
       "</table>\n",
       "</div>"
      ],
      "text/plain": [
       "             count       mean        std   min    25%   50%    75%    max\n",
       "Temperature  243.0  32.172840   3.641327  22.0  30.00  32.0  35.00   42.0\n",
       "RH           243.0  61.901235  14.903495  21.0  52.00  63.0  73.50   90.0\n",
       "Ws           243.0  15.518519   2.806918   6.0  14.00  15.0  17.00   29.0\n",
       "Rain         243.0   0.760905   2.003528   0.0   0.00   0.0   0.50   16.8\n",
       "FFMC         243.0  77.973251  14.304628  28.6  72.45  83.7  88.30   96.0\n",
       "DMC          243.0  14.723457  12.368735   0.7   5.80  11.3  20.80   65.9\n",
       "DC           243.0  49.457202  47.644493   6.9  14.40  33.1  69.10  220.4\n",
       "ISI          243.0   4.776955   4.154571   0.0   1.40   3.5   7.30   19.0\n",
       "BUI          243.0  16.730453  14.202874   1.1   6.05  12.5  22.65   68.0\n",
       "FWI          243.0   7.077366   7.430612   0.0   0.75   4.7  11.45   31.1"
      ]
     },
     "execution_count": 43,
     "metadata": {},
     "output_type": "execute_result"
    }
   ],
   "source": [
    "ds.describe().T"
   ]
  },
  {
   "cell_type": "code",
   "execution_count": 44,
   "metadata": {},
   "outputs": [],
   "source": [
    "#Checking for Categorical and Numerical data in our dataset\n",
    "C_col=[feature for feature in ds.columns if ds[feature].dtype =='O']\n",
    "N_col = [feature for feature in ds.columns if ds[feature].dtype !='O']"
   ]
  },
  {
   "cell_type": "code",
   "execution_count": 45,
   "metadata": {},
   "outputs": [
    {
     "data": {
      "text/html": [
       "<div>\n",
       "<style scoped>\n",
       "    .dataframe tbody tr th:only-of-type {\n",
       "        vertical-align: middle;\n",
       "    }\n",
       "\n",
       "    .dataframe tbody tr th {\n",
       "        vertical-align: top;\n",
       "    }\n",
       "\n",
       "    .dataframe thead th {\n",
       "        text-align: right;\n",
       "    }\n",
       "</style>\n",
       "<table border=\"1\" class=\"dataframe\">\n",
       "  <thead>\n",
       "    <tr style=\"text-align: right;\">\n",
       "      <th></th>\n",
       "      <th>month</th>\n",
       "      <th>Classes</th>\n",
       "      <th>Region</th>\n",
       "    </tr>\n",
       "  </thead>\n",
       "  <tbody>\n",
       "    <tr>\n",
       "      <th>0</th>\n",
       "      <td>06</td>\n",
       "      <td>not fire</td>\n",
       "      <td>0</td>\n",
       "    </tr>\n",
       "    <tr>\n",
       "      <th>1</th>\n",
       "      <td>06</td>\n",
       "      <td>not fire</td>\n",
       "      <td>0</td>\n",
       "    </tr>\n",
       "    <tr>\n",
       "      <th>2</th>\n",
       "      <td>06</td>\n",
       "      <td>not fire</td>\n",
       "      <td>0</td>\n",
       "    </tr>\n",
       "    <tr>\n",
       "      <th>3</th>\n",
       "      <td>06</td>\n",
       "      <td>not fire</td>\n",
       "      <td>0</td>\n",
       "    </tr>\n",
       "    <tr>\n",
       "      <th>4</th>\n",
       "      <td>06</td>\n",
       "      <td>not fire</td>\n",
       "      <td>0</td>\n",
       "    </tr>\n",
       "  </tbody>\n",
       "</table>\n",
       "</div>"
      ],
      "text/plain": [
       "  month   Classes Region\n",
       "0    06  not fire      0\n",
       "1    06  not fire      0\n",
       "2    06  not fire      0\n",
       "3    06  not fire      0\n",
       "4    06  not fire      0"
      ]
     },
     "execution_count": 45,
     "metadata": {},
     "output_type": "execute_result"
    }
   ],
   "source": [
    "ds[C_col].head()"
   ]
  },
  {
   "cell_type": "code",
   "execution_count": 46,
   "metadata": {},
   "outputs": [
    {
     "data": {
      "text/html": [
       "<div>\n",
       "<style scoped>\n",
       "    .dataframe tbody tr th:only-of-type {\n",
       "        vertical-align: middle;\n",
       "    }\n",
       "\n",
       "    .dataframe tbody tr th {\n",
       "        vertical-align: top;\n",
       "    }\n",
       "\n",
       "    .dataframe thead th {\n",
       "        text-align: right;\n",
       "    }\n",
       "</style>\n",
       "<table border=\"1\" class=\"dataframe\">\n",
       "  <thead>\n",
       "    <tr style=\"text-align: right;\">\n",
       "      <th></th>\n",
       "      <th>Temperature</th>\n",
       "      <th>RH</th>\n",
       "      <th>Ws</th>\n",
       "      <th>Rain</th>\n",
       "      <th>FFMC</th>\n",
       "      <th>DMC</th>\n",
       "      <th>DC</th>\n",
       "      <th>ISI</th>\n",
       "      <th>BUI</th>\n",
       "      <th>FWI</th>\n",
       "    </tr>\n",
       "  </thead>\n",
       "  <tbody>\n",
       "    <tr>\n",
       "      <th>0</th>\n",
       "      <td>29</td>\n",
       "      <td>57</td>\n",
       "      <td>18</td>\n",
       "      <td>0.0</td>\n",
       "      <td>65.7</td>\n",
       "      <td>3.4</td>\n",
       "      <td>7.6</td>\n",
       "      <td>1.3</td>\n",
       "      <td>3.4</td>\n",
       "      <td>0.5</td>\n",
       "    </tr>\n",
       "    <tr>\n",
       "      <th>1</th>\n",
       "      <td>29</td>\n",
       "      <td>61</td>\n",
       "      <td>13</td>\n",
       "      <td>1.3</td>\n",
       "      <td>64.4</td>\n",
       "      <td>4.1</td>\n",
       "      <td>7.6</td>\n",
       "      <td>1.0</td>\n",
       "      <td>3.9</td>\n",
       "      <td>0.4</td>\n",
       "    </tr>\n",
       "    <tr>\n",
       "      <th>2</th>\n",
       "      <td>26</td>\n",
       "      <td>82</td>\n",
       "      <td>22</td>\n",
       "      <td>13.1</td>\n",
       "      <td>47.1</td>\n",
       "      <td>2.5</td>\n",
       "      <td>7.1</td>\n",
       "      <td>0.3</td>\n",
       "      <td>2.7</td>\n",
       "      <td>0.1</td>\n",
       "    </tr>\n",
       "    <tr>\n",
       "      <th>3</th>\n",
       "      <td>25</td>\n",
       "      <td>89</td>\n",
       "      <td>13</td>\n",
       "      <td>2.5</td>\n",
       "      <td>28.6</td>\n",
       "      <td>1.3</td>\n",
       "      <td>6.9</td>\n",
       "      <td>0.0</td>\n",
       "      <td>1.7</td>\n",
       "      <td>0.0</td>\n",
       "    </tr>\n",
       "    <tr>\n",
       "      <th>4</th>\n",
       "      <td>27</td>\n",
       "      <td>77</td>\n",
       "      <td>16</td>\n",
       "      <td>0.0</td>\n",
       "      <td>64.8</td>\n",
       "      <td>3.0</td>\n",
       "      <td>14.2</td>\n",
       "      <td>1.2</td>\n",
       "      <td>3.9</td>\n",
       "      <td>0.5</td>\n",
       "    </tr>\n",
       "  </tbody>\n",
       "</table>\n",
       "</div>"
      ],
      "text/plain": [
       "   Temperature  RH  Ws  Rain  FFMC  DMC    DC  ISI  BUI  FWI\n",
       "0           29  57  18   0.0  65.7  3.4   7.6  1.3  3.4  0.5\n",
       "1           29  61  13   1.3  64.4  4.1   7.6  1.0  3.9  0.4\n",
       "2           26  82  22  13.1  47.1  2.5   7.1  0.3  2.7  0.1\n",
       "3           25  89  13   2.5  28.6  1.3   6.9  0.0  1.7  0.0\n",
       "4           27  77  16   0.0  64.8  3.0  14.2  1.2  3.9  0.5"
      ]
     },
     "execution_count": 46,
     "metadata": {},
     "output_type": "execute_result"
    }
   ],
   "source": [
    "ds[N_col].head()"
   ]
  },
  {
   "cell_type": "markdown",
   "metadata": {},
   "source": [
    "## Univariate Analysis"
   ]
  },
  {
   "cell_type": "code",
   "execution_count": 49,
   "metadata": {},
   "outputs": [
    {
     "data": {
      "image/png": "[encoded data removed]",
      "text/plain": [
       "<Figure size 1080x1080 with 3 Axes>"
      ]
     },
     "metadata": {
      "needs_background": "light"
     },
     "output_type": "display_data"
    }
   ],
   "source": [
    "plt.figure(figsize=(15,15))\n",
    "plt.suptitle('Univariate analysis of categorical data', fontsize=20,fontweight='bold')\n",
    "C_col=[feature for feature in ds.columns if ds[feature].dtype =='O']\n",
    "for i in range(0,len(C_col)):\n",
    "    plt.subplot(2,2,i+1)\n",
    "    sns.countplot(ds[C_col[i]])\n",
    "    plt.xlabel(C_col[i])"
   ]
  },
  {
   "cell_type": "code",
   "execution_count": 51,
   "metadata": {},
   "outputs": [
    {
     "data": {
      "image/png": "[encoded data removed]",
      "text/plain": [
       "<Figure size 1080x1080 with 10 Axes>"
      ]
     },
     "metadata": {
      "needs_background": "light"
     },
     "output_type": "display_data"
    }
   ],
   "source": [
    "#Univariate analysis\n",
    "plt.figure(figsize=(15,15))\n",
    "plt.suptitle('Univariate analysis of categorical data', fontsize=20,fontweight='bold')\n",
    "N_col=[feature for feature in ds.columns if ds[feature].dtype !='O']\n",
    "for i in range(0,len(N_col)):\n",
    "    plt.subplot(5,3,i+1)\n",
    "    sns.countplot(ds[N_col[i]],color='b')\n",
    "    plt.xlabel(N_col[i])"
   ]
  },
  {
   "cell_type": "markdown",
   "metadata": {},
   "source": [
    "We can observe that Temperature,RH,Ws are normally distributed and Rain column has most no of outlier,FFMC is right skewed, DMC,DC,ISI,BUI,FWI are left skewed"
   ]
  },
  {
   "cell_type": "code",
   "execution_count": 52,
   "metadata": {},
   "outputs": [],
   "source": [
    "##Multivariate Analysis"
   ]
  },
  {
   "cell_type": "code",
   "execution_count": 55,
   "metadata": {
    "scrolled": true
   },
   "outputs": [
    {
     "data": {
      "image/png": "[encoded data removed]",
      "text/plain": [
       "<Figure size 720x504 with 2 Axes>"
      ]
     },
     "metadata": {
      "needs_background": "light"
     },
     "output_type": "display_data"
    }
   ],
   "source": [
    "plt.figure(figsize=(10,7))\n",
    "plt.title('Correlation plot')\n",
    "sns.heatmap(ds[N_col].corr(),annot=True)\n",
    "plt.show()"
   ]
  },
  {
   "cell_type": "code",
   "execution_count": 56,
   "metadata": {},
   "outputs": [
    {
     "data": {
      "text/plain": [
       "Index(['month', 'Temperature', 'RH', 'Ws', 'Rain', 'FFMC', 'DMC', 'DC', 'ISI',\n",
       "       'BUI', 'FWI', 'Region'],\n",
       "      dtype='object')"
      ]
     },
     "execution_count": 56,
     "metadata": {},
     "output_type": "execute_result"
    }
   ],
   "source": [
    "df=ds.drop('Classes',axis=1)\n",
    "df.columns"
   ]
  },
  {
   "cell_type": "code",
   "execution_count": 59,
   "metadata": {},
   "outputs": [],
   "source": [
    "dfc=[feature for feature in ds.columns if ds[feature].dtype =='O']\n",
    "dfn=[feature for feature in ds.columns if ds[feature].dtype !='O']"
   ]
  },
  {
   "cell_type": "code",
   "execution_count": 60,
   "metadata": {},
   "outputs": [
    {
     "data": {
      "text/plain": [
       "['month', 'Classes', 'Region']"
      ]
     },
     "execution_count": 60,
     "metadata": {},
     "output_type": "execute_result"
    }
   ],
   "source": [
    "dfc"
   ]
  },
  {
   "cell_type": "code",
   "execution_count": 61,
   "metadata": {},
   "outputs": [
    {
     "data": {
      "text/plain": [
       "['Temperature', 'RH', 'Ws', 'Rain', 'FFMC', 'DMC', 'DC', 'ISI', 'BUI', 'FWI']"
      ]
     },
     "execution_count": 61,
     "metadata": {},
     "output_type": "execute_result"
    }
   ],
   "source": [
    "dfn"
   ]
  },
  {
   "cell_type": "code",
   "execution_count": 63,
   "metadata": {},
   "outputs": [
    {
     "data": {
      "image/png": "[encoded data removed]",
      "text/plain": [
       "<Figure size 1440x2880 with 10 Axes>"
      ]
     },
     "metadata": {
      "needs_background": "light"
     },
     "output_type": "display_data"
    }
   ],
   "source": [
    "plt.figure(figsize=(20,40))\n",
    "plt.suptitle(\"Features V/s Classes\", fontweight='bold',y=0.9)\n",
    "for i in range(0,len(dfn)):\n",
    "    ax=plt.subplot(10,3,i+1)\n",
    "    sns.boxplot(data=ds, x='Classes', y=ds[dfn[i]])"
   ]
  },
  {
   "cell_type": "code",
   "execution_count": 67,
   "metadata": {},
   "outputs": [
    {
     "data": {
      "text/plain": [
       "<matplotlib.axes._subplots.AxesSubplot at 0x2a88e54d520>"
      ]
     },
     "execution_count": 67,
     "metadata": {},
     "output_type": "execute_result"
    },
    {
     "data": {
      "image/png": "[encoded data removed]",
      "text/plain": [
       "<Figure size 720x720 with 1 Axes>"
      ]
     },
     "metadata": {
      "needs_background": "light"
     },
     "output_type": "display_data"
    }
   ],
   "source": [
    "#Checking for temperature for impact on fire\n",
    "plt.figure(figsize=(10,10))\n",
    "plt.title('Bar graph showing the incident of fire at various Temperature')\n",
    "sns.countplot(data=ds,hue='Classes', x='Temperature',palette='muted')"
   ]
  },
  {
   "cell_type": "code",
   "execution_count": 68,
   "metadata": {},
   "outputs": [
    {
     "data": {
      "text/plain": [
       "<matplotlib.axes._subplots.AxesSubplot at 0x2a88aa45430>"
      ]
     },
     "execution_count": 68,
     "metadata": {},
     "output_type": "execute_result"
    },
    {
     "data": {
      "image/png": "[encoded data removed]",
      "text/plain": [
       "<Figure size 720x720 with 1 Axes>"
      ]
     },
     "metadata": {
      "needs_background": "light"
     },
     "output_type": "display_data"
    }
   ],
   "source": [
    "#Checking for region column for impact on fire\n",
    "plt.figure(figsize=(10,10))\n",
    "plt.title('Bar graph showing the incident of fire in various Regions')\n",
    "sns.countplot(data=ds,hue='Classes', x='Region',palette='muted')"
   ]
  },
  {
   "cell_type": "code",
   "execution_count": 69,
   "metadata": {},
   "outputs": [
    {
     "data": {
      "text/plain": [
       "<matplotlib.axes._subplots.AxesSubplot at 0x2a8880389a0>"
      ]
     },
     "execution_count": 69,
     "metadata": {},
     "output_type": "execute_result"
    },
    {
     "data": {
      "image/png": "[encoded data removed]",
      "text/plain": [
       "<Figure size 720x720 with 1 Axes>"
      ]
     },
     "metadata": {
      "needs_background": "light"
     },
     "output_type": "display_data"
    }
   ],
   "source": [
    "#checking for Wind speed column for impact on fire\n",
    "plt.figure(figsize=(10,10))\n",
    "plt.title('Bar graph showing the relation between fire and windspeed')\n",
    "sns.countplot(data=ds,hue='Classes', x='Ws',palette='muted')"
   ]
  },
  {
   "cell_type": "code",
   "execution_count": 70,
   "metadata": {},
   "outputs": [
    {
     "data": {
      "text/plain": [
       "<matplotlib.axes._subplots.AxesSubplot at 0x2a88bbf0190>"
      ]
     },
     "execution_count": 70,
     "metadata": {},
     "output_type": "execute_result"
    },
    {
     "data": {
      "image/png": "[encoded data removed]",
      "text/plain": [
       "<Figure size 720x720 with 1 Axes>"
      ]
     },
     "metadata": {
      "needs_background": "light"
     },
     "output_type": "display_data"
    }
   ],
   "source": [
    "#checking for Wind speed column for impact on fire\n",
    "plt.figure(figsize=(10,10))\n",
    "plt.title('Bar graph showing the relation between fire and rain')\n",
    "sns.countplot(data=ds,hue='Classes', x='Rain',palette='muted')"
   ]
  },
  {
   "cell_type": "code",
   "execution_count": 71,
   "metadata": {},
   "outputs": [
    {
     "data": {
      "text/plain": [
       "<matplotlib.axes._subplots.AxesSubplot at 0x2a88abdeee0>"
      ]
     },
     "execution_count": 71,
     "metadata": {},
     "output_type": "execute_result"
    },
    {
     "data": {
      "image/png": "[encoded data removed]",
      "text/plain": [
       "<Figure size 720x720 with 1 Axes>"
      ]
     },
     "metadata": {
      "needs_background": "light"
     },
     "output_type": "display_data"
    }
   ],
   "source": [
    "#checking for month in which fire occurence is more\n",
    "plt.figure(figsize=(10,10))\n",
    "plt.title('Bar graph showing the relation between fire and month')\n",
    "sns.countplot(data=ds,hue='Classes', x='month',palette='muted')"
   ]
  },
  {
   "cell_type": "markdown",
   "metadata": {},
   "source": [
    "## Simple Linear Regression"
   ]
  },
  {
   "cell_type": "code",
   "execution_count": 73,
   "metadata": {},
   "outputs": [
    {
     "data": {
      "text/plain": [
       "Index(['month', 'Temperature', 'RH', 'Ws', 'Rain', 'FFMC', 'DMC', 'DC', 'ISI',\n",
       "       'BUI', 'FWI', 'Classes', 'Region'],\n",
       "      dtype='object')"
      ]
     },
     "execution_count": 73,
     "metadata": {},
     "output_type": "execute_result"
    }
   ],
   "source": [
    "ds.keys()"
   ]
  },
  {
   "cell_type": "code",
   "execution_count": 75,
   "metadata": {},
   "outputs": [
    {
     "data": {
      "text/plain": [
       "<matplotlib.axes._subplots.AxesSubplot at 0x2a88aa40b20>"
      ]
     },
     "execution_count": 75,
     "metadata": {},
     "output_type": "execute_result"
    },
    {
     "data": {
      "image/png": "[encoded data removed]",
      "text/plain": [
       "<Figure size 432x288 with 1 Axes>"
      ]
     },
     "metadata": {
      "needs_background": "light"
     },
     "output_type": "display_data"
    }
   ],
   "source": [
    "#outlier\n",
    "sns.boxplot(ds['Temperature'])"
   ]
  },
  {
   "cell_type": "code",
   "execution_count": 79,
   "metadata": {},
   "outputs": [
    {
     "data": {
      "text/plain": [
       "<matplotlib.axes._subplots.AxesSubplot at 0x2a88aeff160>"
      ]
     },
     "execution_count": 79,
     "metadata": {},
     "output_type": "execute_result"
    },
    {
     "data": {
      "image/png": "[encoded data removed]",
      "text/plain": [
       "<Figure size 720x648 with 1 Axes>"
      ]
     },
     "metadata": {
      "needs_background": "light"
     },
     "output_type": "display_data"
    }
   ],
   "source": [
    "## Ridge Regression\n",
    "plt.figure(figsize=(10,9))\n",
    "sns.regplot(x='Temperature', y='Rain',data=ds)"
   ]
  },
  {
   "cell_type": "code",
   "execution_count": 80,
   "metadata": {
    "collapsed": true
   },
   "outputs": [
    {
     "data": {
      "text/plain": [
       "<matplotlib.axes._subplots.AxesSubplot at 0x2a88a549040>"
      ]
     },
     "execution_count": 80,
     "metadata": {},
     "output_type": "execute_result"
    },
    {
     "data": {
      "image/png": "[encoded data removed]",
      "text/plain": [
       "<Figure size 720x648 with 1 Axes>"
      ]
     },
     "metadata": {
      "needs_background": "light"
     },
     "output_type": "display_data"
    }
   ],
   "source": [
    "plt.figure(figsize=(10,9))\n",
    "sns.regplot(x='Temperature', y='ISI',data=ds)"
   ]
  },
  {
   "cell_type": "code",
   "execution_count": 81,
   "metadata": {},
   "outputs": [
    {
     "data": {
      "text/plain": [
       "Index(['month', 'Temperature', 'RH', 'Ws', 'Rain', 'FFMC', 'DMC', 'DC', 'ISI',\n",
       "       'BUI', 'FWI', 'Classes', 'Region'],\n",
       "      dtype='object')"
      ]
     },
     "execution_count": 81,
     "metadata": {},
     "output_type": "execute_result"
    }
   ],
   "source": [
    "ds.columns"
   ]
  },
  {
   "cell_type": "code",
   "execution_count": 104,
   "metadata": {},
   "outputs": [],
   "source": [
    "#Independent Feature\n",
    "x=pd.DataFrame(ds,columns=['RH','Ws','Rain','FFMC','DMC','DC','ISI','BUI','FWI','Region'])"
   ]
  },
  {
   "cell_type": "code",
   "execution_count": 105,
   "metadata": {},
   "outputs": [],
   "source": [
    "#Dependent Feature\n",
    "y=pd.DataFrame(ds,columns=['Temperature'])"
   ]
  },
  {
   "cell_type": "code",
   "execution_count": 106,
   "metadata": {},
   "outputs": [
    {
     "data": {
      "text/html": [
       "<div>\n",
       "<style scoped>\n",
       "    .dataframe tbody tr th:only-of-type {\n",
       "        vertical-align: middle;\n",
       "    }\n",
       "\n",
       "    .dataframe tbody tr th {\n",
       "        vertical-align: top;\n",
       "    }\n",
       "\n",
       "    .dataframe thead th {\n",
       "        text-align: right;\n",
       "    }\n",
       "</style>\n",
       "<table border=\"1\" class=\"dataframe\">\n",
       "  <thead>\n",
       "    <tr style=\"text-align: right;\">\n",
       "      <th></th>\n",
       "      <th>RH</th>\n",
       "      <th>Ws</th>\n",
       "      <th>Rain</th>\n",
       "      <th>FFMC</th>\n",
       "      <th>DMC</th>\n",
       "      <th>DC</th>\n",
       "      <th>ISI</th>\n",
       "      <th>BUI</th>\n",
       "      <th>FWI</th>\n",
       "      <th>Region</th>\n",
       "    </tr>\n",
       "  </thead>\n",
       "  <tbody>\n",
       "    <tr>\n",
       "      <th>0</th>\n",
       "      <td>57</td>\n",
       "      <td>18</td>\n",
       "      <td>0.0</td>\n",
       "      <td>65.7</td>\n",
       "      <td>3.4</td>\n",
       "      <td>7.6</td>\n",
       "      <td>1.3</td>\n",
       "      <td>3.4</td>\n",
       "      <td>0.5</td>\n",
       "      <td>0</td>\n",
       "    </tr>\n",
       "    <tr>\n",
       "      <th>1</th>\n",
       "      <td>61</td>\n",
       "      <td>13</td>\n",
       "      <td>1.3</td>\n",
       "      <td>64.4</td>\n",
       "      <td>4.1</td>\n",
       "      <td>7.6</td>\n",
       "      <td>1.0</td>\n",
       "      <td>3.9</td>\n",
       "      <td>0.4</td>\n",
       "      <td>0</td>\n",
       "    </tr>\n",
       "    <tr>\n",
       "      <th>2</th>\n",
       "      <td>82</td>\n",
       "      <td>22</td>\n",
       "      <td>13.1</td>\n",
       "      <td>47.1</td>\n",
       "      <td>2.5</td>\n",
       "      <td>7.1</td>\n",
       "      <td>0.3</td>\n",
       "      <td>2.7</td>\n",
       "      <td>0.1</td>\n",
       "      <td>0</td>\n",
       "    </tr>\n",
       "    <tr>\n",
       "      <th>3</th>\n",
       "      <td>89</td>\n",
       "      <td>13</td>\n",
       "      <td>2.5</td>\n",
       "      <td>28.6</td>\n",
       "      <td>1.3</td>\n",
       "      <td>6.9</td>\n",
       "      <td>0.0</td>\n",
       "      <td>1.7</td>\n",
       "      <td>0.0</td>\n",
       "      <td>0</td>\n",
       "    </tr>\n",
       "    <tr>\n",
       "      <th>4</th>\n",
       "      <td>77</td>\n",
       "      <td>16</td>\n",
       "      <td>0.0</td>\n",
       "      <td>64.8</td>\n",
       "      <td>3.0</td>\n",
       "      <td>14.2</td>\n",
       "      <td>1.2</td>\n",
       "      <td>3.9</td>\n",
       "      <td>0.5</td>\n",
       "      <td>0</td>\n",
       "    </tr>\n",
       "  </tbody>\n",
       "</table>\n",
       "</div>"
      ],
      "text/plain": [
       "   RH  Ws  Rain  FFMC  DMC    DC  ISI  BUI  FWI Region\n",
       "0  57  18   0.0  65.7  3.4   7.6  1.3  3.4  0.5      0\n",
       "1  61  13   1.3  64.4  4.1   7.6  1.0  3.9  0.4      0\n",
       "2  82  22  13.1  47.1  2.5   7.1  0.3  2.7  0.1      0\n",
       "3  89  13   2.5  28.6  1.3   6.9  0.0  1.7  0.0      0\n",
       "4  77  16   0.0  64.8  3.0  14.2  1.2  3.9  0.5      0"
      ]
     },
     "execution_count": 106,
     "metadata": {},
     "output_type": "execute_result"
    }
   ],
   "source": [
    "x.head()"
   ]
  },
  {
   "cell_type": "code",
   "execution_count": 107,
   "metadata": {},
   "outputs": [
    {
     "data": {
      "text/html": [
       "<div>\n",
       "<style scoped>\n",
       "    .dataframe tbody tr th:only-of-type {\n",
       "        vertical-align: middle;\n",
       "    }\n",
       "\n",
       "    .dataframe tbody tr th {\n",
       "        vertical-align: top;\n",
       "    }\n",
       "\n",
       "    .dataframe thead th {\n",
       "        text-align: right;\n",
       "    }\n",
       "</style>\n",
       "<table border=\"1\" class=\"dataframe\">\n",
       "  <thead>\n",
       "    <tr style=\"text-align: right;\">\n",
       "      <th></th>\n",
       "      <th>Temperature</th>\n",
       "    </tr>\n",
       "  </thead>\n",
       "  <tbody>\n",
       "    <tr>\n",
       "      <th>0</th>\n",
       "      <td>29</td>\n",
       "    </tr>\n",
       "    <tr>\n",
       "      <th>1</th>\n",
       "      <td>29</td>\n",
       "    </tr>\n",
       "    <tr>\n",
       "      <th>2</th>\n",
       "      <td>26</td>\n",
       "    </tr>\n",
       "    <tr>\n",
       "      <th>3</th>\n",
       "      <td>25</td>\n",
       "    </tr>\n",
       "    <tr>\n",
       "      <th>4</th>\n",
       "      <td>27</td>\n",
       "    </tr>\n",
       "  </tbody>\n",
       "</table>\n",
       "</div>"
      ],
      "text/plain": [
       "   Temperature\n",
       "0           29\n",
       "1           29\n",
       "2           26\n",
       "3           25\n",
       "4           27"
      ]
     },
     "execution_count": 107,
     "metadata": {},
     "output_type": "execute_result"
    }
   ],
   "source": [
    "y.head()"
   ]
  },
  {
   "cell_type": "code",
   "execution_count": 108,
   "metadata": {},
   "outputs": [],
   "source": [
    "##Train-Test data"
   ]
  },
  {
   "cell_type": "code",
   "execution_count": 109,
   "metadata": {},
   "outputs": [
    {
     "data": {
      "text/plain": [
       "(243, 13)"
      ]
     },
     "execution_count": 109,
     "metadata": {},
     "output_type": "execute_result"
    }
   ],
   "source": [
    "ds.shape"
   ]
  },
  {
   "cell_type": "code",
   "execution_count": 110,
   "metadata": {},
   "outputs": [
    {
     "data": {
      "text/html": [
       "<div>\n",
       "<style scoped>\n",
       "    .dataframe tbody tr th:only-of-type {\n",
       "        vertical-align: middle;\n",
       "    }\n",
       "\n",
       "    .dataframe tbody tr th {\n",
       "        vertical-align: top;\n",
       "    }\n",
       "\n",
       "    .dataframe thead th {\n",
       "        text-align: right;\n",
       "    }\n",
       "</style>\n",
       "<table border=\"1\" class=\"dataframe\">\n",
       "  <thead>\n",
       "    <tr style=\"text-align: right;\">\n",
       "      <th></th>\n",
       "      <th>RH</th>\n",
       "      <th>Ws</th>\n",
       "      <th>Rain</th>\n",
       "      <th>FFMC</th>\n",
       "      <th>DMC</th>\n",
       "      <th>DC</th>\n",
       "      <th>ISI</th>\n",
       "      <th>BUI</th>\n",
       "      <th>FWI</th>\n",
       "      <th>Region</th>\n",
       "    </tr>\n",
       "  </thead>\n",
       "  <tbody>\n",
       "    <tr>\n",
       "      <th>25</th>\n",
       "      <td>64</td>\n",
       "      <td>18</td>\n",
       "      <td>0.0</td>\n",
       "      <td>86.8</td>\n",
       "      <td>17.8</td>\n",
       "      <td>71.8</td>\n",
       "      <td>6.7</td>\n",
       "      <td>21.6</td>\n",
       "      <td>10.6</td>\n",
       "      <td>0</td>\n",
       "    </tr>\n",
       "    <tr>\n",
       "      <th>121</th>\n",
       "      <td>78</td>\n",
       "      <td>14</td>\n",
       "      <td>1.4</td>\n",
       "      <td>45.0</td>\n",
       "      <td>1.9</td>\n",
       "      <td>7.5</td>\n",
       "      <td>0.2</td>\n",
       "      <td>2.4</td>\n",
       "      <td>0.1</td>\n",
       "      <td>0</td>\n",
       "    </tr>\n",
       "    <tr>\n",
       "      <th>173</th>\n",
       "      <td>71</td>\n",
       "      <td>17</td>\n",
       "      <td>0.0</td>\n",
       "      <td>87.3</td>\n",
       "      <td>46.6</td>\n",
       "      <td>99.0</td>\n",
       "      <td>6.9</td>\n",
       "      <td>46.5</td>\n",
       "      <td>16.3</td>\n",
       "      <td>1</td>\n",
       "    </tr>\n",
       "    <tr>\n",
       "      <th>72</th>\n",
       "      <td>51</td>\n",
       "      <td>13</td>\n",
       "      <td>0.3</td>\n",
       "      <td>81.3</td>\n",
       "      <td>15.6</td>\n",
       "      <td>75.1</td>\n",
       "      <td>2.5</td>\n",
       "      <td>20.7</td>\n",
       "      <td>4.2</td>\n",
       "      <td>0</td>\n",
       "    </tr>\n",
       "    <tr>\n",
       "      <th>185</th>\n",
       "      <td>35</td>\n",
       "      <td>15</td>\n",
       "      <td>0.0</td>\n",
       "      <td>93.8</td>\n",
       "      <td>23.0</td>\n",
       "      <td>42.7</td>\n",
       "      <td>15.7</td>\n",
       "      <td>22.9</td>\n",
       "      <td>20.9</td>\n",
       "      <td>1</td>\n",
       "    </tr>\n",
       "  </tbody>\n",
       "</table>\n",
       "</div>"
      ],
      "text/plain": [
       "     RH  Ws  Rain  FFMC   DMC    DC   ISI   BUI   FWI Region\n",
       "25   64  18   0.0  86.8  17.8  71.8   6.7  21.6  10.6      0\n",
       "121  78  14   1.4  45.0   1.9   7.5   0.2   2.4   0.1      0\n",
       "173  71  17   0.0  87.3  46.6  99.0   6.9  46.5  16.3      1\n",
       "72   51  13   0.3  81.3  15.6  75.1   2.5  20.7   4.2      0\n",
       "185  35  15   0.0  93.8  23.0  42.7  15.7  22.9  20.9      1"
      ]
     },
     "execution_count": 110,
     "metadata": {},
     "output_type": "execute_result"
    }
   ],
   "source": [
    "from sklearn.model_selection import train_test_split\n",
    "X_train,X_test,Y_train,Y_test=train_test_split(x,y,test_size=0.33,random_state=10)\n",
    "X_train.head()"
   ]
  },
  {
   "cell_type": "code",
   "execution_count": 111,
   "metadata": {},
   "outputs": [
    {
     "data": {
      "text/plain": [
       "(162, 10)"
      ]
     },
     "execution_count": 111,
     "metadata": {},
     "output_type": "execute_result"
    }
   ],
   "source": [
    "X_train.shape"
   ]
  },
  {
   "cell_type": "code",
   "execution_count": 112,
   "metadata": {},
   "outputs": [
    {
     "data": {
      "text/plain": [
       "(162, 1)"
      ]
     },
     "execution_count": 112,
     "metadata": {},
     "output_type": "execute_result"
    }
   ],
   "source": [
    "Y_train.shape"
   ]
  },
  {
   "cell_type": "code",
   "execution_count": 113,
   "metadata": {},
   "outputs": [
    {
     "data": {
      "text/plain": [
       "(81, 10)"
      ]
     },
     "execution_count": 113,
     "metadata": {},
     "output_type": "execute_result"
    }
   ],
   "source": [
    "X_test.shape"
   ]
  },
  {
   "cell_type": "code",
   "execution_count": 114,
   "metadata": {},
   "outputs": [
    {
     "data": {
      "text/plain": [
       "(81, 1)"
      ]
     },
     "execution_count": 114,
     "metadata": {},
     "output_type": "execute_result"
    }
   ],
   "source": [
    "Y_test.shape"
   ]
  },
  {
   "cell_type": "code",
   "execution_count": 115,
   "metadata": {},
   "outputs": [
    {
     "data": {
      "text/plain": [
       "StandardScaler()"
      ]
     },
     "execution_count": 115,
     "metadata": {},
     "output_type": "execute_result"
    }
   ],
   "source": [
    "##Feature Scaling\n",
    "from sklearn.preprocessing import StandardScaler\n",
    "scaler=StandardScaler()\n",
    "scaler"
   ]
  },
  {
   "cell_type": "code",
   "execution_count": 118,
   "metadata": {},
   "outputs": [
    {
     "data": {
      "text/plain": [
       "array([[ 0.0473997 ,  0.89679491, -0.43894049, ...,  0.39565587,\n",
       "         0.53606168, -1.01242284],\n",
       "       [ 0.98220418, -0.6165465 ,  0.43279071, ..., -0.99474977,\n",
       "        -0.92522184, -1.01242284],\n",
       "       [ 0.51480194,  0.51845956, -0.43894049, ...,  2.19883819,\n",
       "         1.32932988,  0.9877296 ],\n",
       "       ...,\n",
       "       [-2.48992674, -0.99488186, -0.43894049, ...,  0.45358944,\n",
       "         1.74683945,  0.9877296 ],\n",
       "       [-0.2196873 , -0.6165465 , -0.31440746, ..., -0.69784023,\n",
       "        -0.81388595,  0.9877296 ],\n",
       "       [ 1.04897592, -1.37321721, -0.43894049, ..., -0.25609677,\n",
       "        -0.81388595, -1.01242284]])"
      ]
     },
     "execution_count": 118,
     "metadata": {},
     "output_type": "execute_result"
    }
   ],
   "source": [
    "X_train=scaler.fit_transform(X_train)\n",
    "X_train"
   ]
  },
  {
   "cell_type": "code",
   "execution_count": 117,
   "metadata": {},
   "outputs": [
    {
     "data": {
      "text/plain": [
       "array([[ 4.48030189e-01, -6.16546502e-01, -4.38940489e-01,\n",
       "         3.80498723e-01, -4.00436729e-01, -2.98351885e-01,\n",
       "        -3.44200203e-01, -3.64722210e-01, -4.38127334e-01,\n",
       "        -1.01242284e+00],\n",
       "       [-9.54176529e-01,  1.27513027e+00, -4.38940489e-01,\n",
       "         7.66460723e-01, -2.22150412e-01, -3.13054898e-01,\n",
       "         1.08307335e+00, -2.70580162e-01,  4.94310722e-01,\n",
       "         9.87729597e-01],\n",
       "       [-4.86774290e-01,  1.40124205e-01, -4.38940489e-01,\n",
       "         7.86424275e-01,  8.22098020e-01,  1.84747121e-01,\n",
       "         8.65353655e-01,  5.54973188e-01,  8.97903313e-01,\n",
       "         9.87729597e-01],\n",
       "       [ 1.18251942e+00,  2.03180097e+00,  3.17251734e+00,\n",
       "        -1.89534617e+00, -9.43785506e-01, -8.52865526e-01,\n",
       "        -1.02155036e+00, -9.51299590e-01, -9.25221841e-01,\n",
       "        -1.01242284e+00],\n",
       "       [ 4.73996980e-02, -6.16546502e-01, -4.38940489e-01,\n",
       "         1.54245137e-01, -7.57009364e-01, -6.91132381e-01,\n",
       "        -5.86110974e-01, -7.63015493e-01, -7.99968968e-01,\n",
       "         9.87729597e-01],\n",
       "       [-3.53230793e-01,  1.40124205e-01, -4.38940489e-01,\n",
       "         7.33188137e-01,  1.16169101e+00,  2.68764339e-01,\n",
       "         6.47633960e-01,  8.37399334e-01,  8.70069341e-01,\n",
       "         9.87729597e-01],\n",
       "       [-2.19687296e-01,  8.96794913e-01, -2.52140947e-01,\n",
       "         1.19124074e-03, -2.39130061e-01, -2.73963553e-02,\n",
       "        -5.86110974e-01, -1.47471329e-01, -5.77297193e-01,\n",
       "        -1.01242284e+00],\n",
       "       [-8.87404780e-01,  1.40124205e-01, -4.38940489e-01,\n",
       "         8.52969447e-01,  1.57769241e+00,  4.76706955e-01,\n",
       "         1.17983766e+00,  1.19224244e+00,  1.46849974e+00,\n",
       "         9.87729597e-01],\n",
       "       [-8.61437989e-02,  1.40124205e-01, -4.38940489e-01,\n",
       "         7.13224585e-01,  2.02340821e-01, -2.89950163e-01,\n",
       "         5.75060729e-01,  1.90876803e-02,  3.82974834e-01,\n",
       "         9.87729597e-01],\n",
       "       [-1.08772003e+00, -6.16546502e-01, -3.07488959e-03,\n",
       "         2.78093097e-02, -5.95702696e-01, -8.29760791e-01,\n",
       "        -6.82875283e-01, -6.76115140e-01, -8.13885954e-01,\n",
       "        -1.01242284e+00],\n",
       "       [-3.53230793e-01, -2.12988792e+00, -3.14407461e-01,\n",
       "         8.10454476e-02, -2.81579184e-01, -6.00813871e-01,\n",
       "        -7.31257437e-01, -3.93688994e-01, -7.99968968e-01,\n",
       "         9.87729597e-01],\n",
       "       [-1.93720505e-02, -6.16546502e-01, -4.38940489e-01,\n",
       "         6.59988447e-01, -2.73089359e-01, -2.37439401e-01,\n",
       "         2.36385649e-01, -2.63338466e-01,  7.21621491e-03,\n",
       "        -1.01242284e+00],\n",
       "       [-1.95575276e+00,  1.40124205e-01, -3.14407461e-01,\n",
       "         7.46497171e-01,  2.36300119e-01, -6.73045340e-02,\n",
       "         6.96016115e-01,  9.87463369e-02,  5.22144693e-01,\n",
       "         9.87729597e-01],\n",
       "       [ 1.04897592e+00, -2.38211149e-01, -4.38940489e-01,\n",
       "         5.53516171e-01,  1.22111978e+00,  1.84198675e+00,\n",
       "         1.86659546e-02,  1.53984385e+00,  5.49978665e-01,\n",
       "        -1.01242284e+00],\n",
       "       [-6.87089535e-01,  5.18459559e-01, -1.27607918e-01,\n",
       "         2.07481275e-01,  5.58913456e-01,  2.11924357e+00,\n",
       "        -4.65155588e-01,  1.04740852e+00, -1.18036658e-01,\n",
       "         9.87729597e-01],\n",
       "       [-6.87089535e-01,  8.96794913e-01, -4.38940489e-01,\n",
       "         7.93078792e-01,  6.35321878e-01,  6.72046988e-01,\n",
       "         1.10726443e+00,  6.99807109e-01,  1.14840906e+00,\n",
       "        -1.01242284e+00],\n",
       "       [ 1.11574767e+00,  1.40124205e-01,  6.81856767e-01,\n",
       "        -1.97520038e+00, -9.52275331e-01, -8.52865526e-01,\n",
       "        -1.04574144e+00, -9.51299590e-01, -9.25221841e-01,\n",
       "        -1.01242284e+00],\n",
       "       [-2.02252450e+00,  5.18459559e-01, -4.38940489e-01,\n",
       "         1.10584110e+00,  2.53279769e-01, -3.40360494e-01,\n",
       "         3.04255060e+00,  5.52961606e-02,  1.77467343e+00,\n",
       "         9.87729597e-01],\n",
       "       [ 1.14171446e-01, -6.16546502e-01, -4.38940489e-01,\n",
       "         4.93625516e-01, -1.37252165e-01,  1.25935068e-01,\n",
       "        -1.50671585e-01, -2.43624960e-02, -1.59787616e-01,\n",
       "        -1.01242284e+00],\n",
       "       [ 1.11574767e+00,  2.03180097e+00,  1.00218339e+01,\n",
       "        -1.63582000e+00, -4.59865502e-01, -8.31861221e-01,\n",
       "        -9.73168208e-01, -5.67489700e-01, -8.97387869e-01,\n",
       "        -1.01242284e+00],\n",
       "       [-1.52915547e-01,  8.96794913e-01, -2.52140947e-01,\n",
       "         2.07481275e-01, -2.05170762e-01,  8.84190464e-01,\n",
       "        -4.40964511e-01,  1.05988033e-01, -3.54625419e-01,\n",
       "        -1.01242284e+00],\n",
       "       [-6.20317786e-01, -6.16546502e-01,  1.49132145e+00,\n",
       "        -4.38006897e-01, -2.64599535e-01, -8.23459499e-01,\n",
       "        -8.03830668e-01, -4.08172387e-01, -8.27802940e-01,\n",
       "         9.87729597e-01],\n",
       "       [ 4.73996980e-02,  5.18459559e-01, -4.38940489e-01,\n",
       "         6.73297482e-01,  1.50977382e+00,  2.04572851e+00,\n",
       "         5.26678575e-01,  1.81502830e+00,  1.24582796e+00,\n",
       "        -1.01242284e+00],\n",
       "       [ 4.73996980e-02, -2.50822327e+00,  3.08257682e-01,\n",
       "        -2.18407828e-01, -2.05170762e-01, -6.80630228e-01,\n",
       "        -8.52212823e-01, -3.42997122e-01, -8.41719925e-01,\n",
       "         9.87729597e-01],\n",
       "       [ 5.14801937e-01,  5.18459559e-01, -2.52140947e-01,\n",
       "        -4.97897552e-01, -9.26805857e-01, -3.82369103e-01,\n",
       "        -7.55448514e-01, -7.99223973e-01, -8.55636911e-01,\n",
       "        -1.01242284e+00],\n",
       "       [-5.53546038e-01, -2.38211149e-01, -4.38940489e-01,\n",
       "         7.99733309e-01,  5.75893105e-01, -1.05112282e-01,\n",
       "         8.16971500e-01,  3.37722306e-01,  7.30899482e-01,\n",
       "         9.87729597e-01],\n",
       "       [-6.20317786e-01, -1.75155256e+00, -4.38940489e-01,\n",
       "         3.27262585e-01, -6.89090767e-01, -6.72228506e-01,\n",
       "        -5.13537743e-01, -7.19565317e-01, -7.02550066e-01,\n",
       "        -1.01242284e+00],\n",
       "       [-1.48835052e+00, -2.38211149e-01, -4.38940489e-01,\n",
       "         8.19696861e-01, -6.93335679e-02, -5.42001818e-01,\n",
       "         9.13735809e-01, -2.19888289e-01,  4.52559764e-01,\n",
       "         9.87729597e-01],\n",
       "       [-1.93720505e-02, -6.16546502e-01, -2.52140947e-01,\n",
       "        -3.20813454e-02, -7.14560241e-01, -8.04555625e-01,\n",
       "        -7.07066360e-01, -7.70257189e-01, -8.27802940e-01,\n",
       "        -1.01242284e+00],\n",
       "       [-9.54176529e-01, -3.64322933e+00,  8.06389795e-01,\n",
       "        -1.05022248e+00, -1.88191113e-01, -4.24377712e-01,\n",
       "        -9.73168208e-01, -3.06788642e-01, -8.83470883e-01,\n",
       "         9.87729597e-01],\n",
       "       [-6.20317786e-01, -9.94881856e-01, -4.38940489e-01,\n",
       "         7.39842654e-01, -3.57987606e-01, -3.73967381e-01,\n",
       "         4.29914266e-01, -3.79205602e-01,  6.28841585e-02,\n",
       "        -1.01242284e+00],\n",
       "       [-1.15449177e+00, -6.16546502e-01,  2.45991167e-01,\n",
       "         8.10454476e-02, -5.10804450e-01, -8.40262943e-01,\n",
       "        -6.58684206e-01, -6.10939876e-01, -7.72134996e-01,\n",
       "         9.87729597e-01],\n",
       "       [-8.20633032e-01,  1.40124205e-01,  1.92718705e+00,\n",
       "         2.78093097e-02, -5.19294274e-01, -8.15057778e-01,\n",
       "        -6.34493128e-01, -6.10939876e-01, -7.58218010e-01,\n",
       "         9.87729597e-01],\n",
       "       [ 4.73996980e-02, -2.38211149e-01, -4.38940489e-01,\n",
       "         6.40024895e-01,  7.07485387e-03,  3.25475962e-01,\n",
       "         2.60576726e-01,  1.56679905e-01,  2.29887989e-01,\n",
       "        -1.01242284e+00],\n",
       "       [ 1.24929117e+00,  2.03180097e+00, -4.38940489e-01,\n",
       "         5.20243585e-01,  2.79173734e+00,  3.19046311e+00,\n",
       "        -5.39072769e-02,  3.12577529e+00,  8.97903313e-01,\n",
       "        -1.01242284e+00],\n",
       "       [ 1.11574767e+00,  1.40124205e-01, -1.89874432e-01,\n",
       "        -1.15004024e+00, -9.09826208e-01, -4.45382017e-01,\n",
       "        -9.00594977e-01, -7.99223973e-01, -8.83470883e-01,\n",
       "        -1.01242284e+00],\n",
       "       [-4.86774290e-01, -2.38211149e-01,  1.36678842e+00,\n",
       "        -1.51862656e-01, -5.95702696e-01, -8.15057778e-01,\n",
       "        -7.31257437e-01, -6.76115140e-01, -8.27802940e-01,\n",
       "         9.87729597e-01],\n",
       "       [ 3.14486692e-01,  1.40124205e-01, -4.38940489e-01,\n",
       "         5.46861654e-01, -3.49497781e-01, -6.57525493e-01,\n",
       "         6.70481089e-02, -4.51622563e-01, -2.01538574e-01,\n",
       "         9.87729597e-01],\n",
       "       [-6.87089535e-01,  1.27513027e+00, -4.38940489e-01,\n",
       "         8.06387826e-01,  2.53279769e-01,  1.05642576e+00,\n",
       "         1.30079304e+00,  5.62214884e-01,  1.19016002e+00,\n",
       "        -1.01242284e+00],\n",
       "       [-1.22126352e+00, -6.16546502e-01, -4.38940489e-01,\n",
       "         1.14318034e-01, -7.90968663e-01, -8.00354764e-01,\n",
       "        -6.34493128e-01, -8.28190757e-01, -8.13885954e-01,\n",
       "        -1.01242284e+00],\n",
       "       [-5.53546038e-01, -2.38211149e-01, -4.38940489e-01,\n",
       "         8.13042343e-01,  1.20414013e+00,  3.96890598e-01,\n",
       "         8.89544732e-01,  8.80849510e-01,  1.07882413e+00,\n",
       "         9.87729597e-01],\n",
       "       [-1.42157877e+00,  2.03180097e+00, -4.38940489e-01,\n",
       "         8.99551068e-01,  3.46667840e-01, -3.73967381e-01,\n",
       "         2.12328967e+00,  1.34954817e-01,  1.38499782e+00,\n",
       "         9.87729597e-01],\n",
       "       [-5.53546038e-01, -6.16546502e-01, -4.38940489e-01,\n",
       "         7.86424275e-01,  3.80627138e-01,  3.92689737e-01,\n",
       "         6.71825038e-01,  4.17380963e-01,  6.75231538e-01,\n",
       "        -1.01242284e+00],\n",
       "       [-1.48835052e+00, -2.88655862e+00, -3.76673975e-01,\n",
       "         4.53698413e-01,  9.15486091e-01,  7.91771524e-01,\n",
       "        -4.65155588e-01,  9.24299686e-01, -1.59787616e-01,\n",
       "         9.87729597e-01],\n",
       "       [-2.86459044e-01,  5.18459559e-01, -4.38940489e-01,\n",
       "         6.86606516e-01,  5.80138017e-02,  1.82646691e-01,\n",
       "         5.50869652e-01,  1.27713121e-01,  4.38642778e-01,\n",
       "        -1.01242284e+00],\n",
       "       [-1.75543751e+00, -6.16546502e-01, -4.38940489e-01,\n",
       "         1.14576821e+00,  1.84936680e+00,  8.08574968e-01,\n",
       "         2.75225767e+00,  1.43121841e+00,  2.72102847e+00,\n",
       "         9.87729597e-01],\n",
       "       [-1.28803527e+00, -9.94881856e-01, -4.38940489e-01,\n",
       "         8.66278481e-01, -1.28762340e-01, -6.07115162e-01,\n",
       "         8.89544732e-01, -2.63338466e-01,  3.96891820e-01,\n",
       "         9.87729597e-01],\n",
       "       [-1.02094828e+00, -9.94881856e-01, -4.38940489e-01,\n",
       "         8.79587516e-01,  6.86260826e-01,  1.26436838e+00,\n",
       "         9.86309040e-01,  9.60508167e-01,  1.19016002e+00,\n",
       "        -1.01242284e+00],\n",
       "       [ 2.47714943e-01,  1.27513027e+00, -4.38940489e-01,\n",
       "        -1.11935552e-01, -9.52275331e-01, -6.72228506e-01,\n",
       "        -6.34493128e-01, -8.78882630e-01, -8.27802940e-01,\n",
       "         9.87729597e-01],\n",
       "       [ 9.82204176e-01, -6.16546502e-01, -4.38940489e-01,\n",
       "         2.60717413e-01, -6.63621293e-01, -3.50862646e-01,\n",
       "        -4.89346665e-01, -5.60248004e-01, -6.32965137e-01,\n",
       "        -1.01242284e+00],\n",
       "       [ 3.14486692e-01, -6.16546502e-01, -4.38940489e-01,\n",
       "         5.53516171e-01, -1.71211464e-01, -1.09313143e-01,\n",
       "        -5.52512256e-03, -1.40229633e-01, -1.04119672e-01,\n",
       "        -1.01242284e+00],\n",
       "       [-2.62347024e+00, -2.50822327e+00, -4.38940489e-01,\n",
       "         1.25889500e+00,  1.37393662e+00,  5.90130200e-01,\n",
       "         2.67968444e+00,  1.03292513e+00,  2.40093779e+00,\n",
       "         9.87729597e-01],\n",
       "       [ 2.47714943e-01, -6.16546502e-01, -4.38940489e-01,\n",
       "         3.67189689e-01, -7.06070416e-01, -5.48303109e-01,\n",
       "        -3.68391280e-01, -6.61631748e-01, -5.91214179e-01,\n",
       "        -1.01242284e+00],\n",
       "       [-9.54176529e-01, -1.75155256e+00, -4.38940489e-01,\n",
       "         8.19696861e-01, -3.66477431e-01, -3.19356189e-01,\n",
       "         5.26678575e-01, -3.50238818e-01,  1.32469088e-01,\n",
       "        -1.01242284e+00],\n",
       "       [ 1.24929117e+00, -2.38211149e-01, -1.89874432e-01,\n",
       "        -2.14156331e+00, -1.12207182e+00, -8.61267248e-01,\n",
       "        -1.06993252e+00, -1.06716673e+00, -9.39138827e-01,\n",
       "        -1.01242284e+00],\n",
       "       [-1.68866576e+00, -2.38211149e-01, -4.38940489e-01,\n",
       "         9.99368826e-01,  3.15679980e+00,  2.08773712e+00,\n",
       "         1.83299674e+00,  2.80714066e+00,  2.80453038e+00,\n",
       "         9.87729597e-01],\n",
       "       [-1.75543751e+00, -9.94881856e-01, -4.38940489e-01,\n",
       "         1.02598690e+00,  1.11075206e+00,  8.60268895e-02,\n",
       "         1.71204135e+00,  7.93949158e-01,  1.62158658e+00,\n",
       "         9.87729597e-01],\n",
       "       [-3.53230793e-01, -9.94881856e-01, -3.14407461e-01,\n",
       "         1.60899654e-01,  3.89116963e-01,  8.33780133e-01,\n",
       "        -6.10302051e-01,  5.98423364e-01, -4.10293362e-01,\n",
       "         9.87729597e-01],\n",
       "       [ 1.58314991e+00, -2.38211149e-01, -1.89874432e-01,\n",
       "        -1.97520038e+00, -8.41907611e-01, -8.46564235e-01,\n",
       "        -1.06993252e+00, -8.71640934e-01, -9.25221841e-01,\n",
       "         9.87729597e-01],\n",
       "       [ 1.14171446e-01, -2.38211149e-01, -3.76673975e-01,\n",
       "         2.87335482e-01, -1.54231814e-01,  2.89768644e-01,\n",
       "        -4.40964511e-01,  2.63293764e-02, -3.82459390e-01,\n",
       "        -1.01242284e+00],\n",
       "       [ 6.48345434e-01, -2.38211149e-01, -4.38940489e-01,\n",
       "         6.33370378e-01,  1.06830293e+00,  1.65294801e+00,\n",
       "         2.36385649e-01,  1.36604315e+00,  7.16982496e-01,\n",
       "        -1.01242284e+00],\n",
       "       [-1.52915547e-01, -9.94881856e-01,  3.70524196e-01,\n",
       "        -8.43932448e-01, -8.50397435e-01, -8.54965956e-01,\n",
       "        -8.76403900e-01, -8.86124326e-01, -8.83470883e-01,\n",
       "        -1.01242284e+00],\n",
       "       [ 1.24929117e+00,  2.41013633e+00,  7.71797287e+00,\n",
       "        -1.99516393e+00, -9.86234630e-01, -8.65468109e-01,\n",
       "        -1.04574144e+00, -9.73024678e-01, -9.25221841e-01,\n",
       "        -1.01242284e+00],\n",
       "       [-1.82220926e+00, -9.94881856e-01, -6.53414038e-02,\n",
       "         6.06752309e-01,  3.21198366e-01, -2.43740693e-01,\n",
       "         4.28570317e-02,  1.20471425e-01,  6.28841585e-02,\n",
       "         9.87729597e-01],\n",
       "       [-6.20317786e-01, -6.16546502e-01, -4.38940489e-01,\n",
       "         9.26169136e-01,  4.39631420e+00,  2.70946453e+00,\n",
       "         1.30079304e+00,  3.75580284e+00,  2.69319449e+00,\n",
       "         9.87729597e-01],\n",
       "       [ 1.64992166e+00, -9.94881856e-01, -4.38940489e-01,\n",
       "        -4.04734311e-01, -9.77744805e-01, -6.65927215e-01,\n",
       "        -8.28021746e-01, -9.00607718e-01, -8.69553897e-01,\n",
       "        -1.01242284e+00],\n",
       "       [ 1.80943195e-01,  2.41013633e+00, -1.89874432e-01,\n",
       "        -5.91060793e-01, -3.07048658e-01,  4.83008246e-01,\n",
       "        -6.82875283e-01, -5.33292802e-02, -6.46882123e-01,\n",
       "        -1.01242284e+00],\n",
       "       [-8.61437989e-02, -2.12988792e+00,  4.97824625e+00,\n",
       "        -7.70732759e-01, -8.07948312e-01, -8.40262943e-01,\n",
       "        -9.00594977e-01, -8.49915846e-01, -8.83470883e-01,\n",
       "         9.87729597e-01],\n",
       "       [-1.35480702e+00,  1.40124205e-01, -4.38940489e-01,\n",
       "         9.39478171e-01,  2.71532892e+00,  1.87769407e+00,\n",
       "         1.66365920e+00,  2.46678094e+00,  2.47052272e+00,\n",
       "         9.87729597e-01],\n",
       "       [ 8.48660679e-01,  1.65346562e+00, -3.07488959e-03,\n",
       "        -9.30441172e-01, -9.77744805e-01, -8.21359069e-01,\n",
       "        -8.03830668e-01, -9.51299590e-01, -8.69553897e-01,\n",
       "        -1.01242284e+00],\n",
       "       [ 1.38283467e+00,  8.96794913e-01, -4.38940489e-01,\n",
       "         4.47043896e-01, -5.23539187e-02,  2.09135453e-02,\n",
       "        -2.97161997e-02, -9.87910387e-03, -6.23687146e-02,\n",
       "        -1.01242284e+00],\n",
       "       [ 6.48345434e-01, -2.38211149e-01, -4.38940489e-01,\n",
       "         6.33370378e-01, -1.71211464e-01, -2.10133805e-01,\n",
       "         2.36385649e-01, -1.90921505e-01,  4.89671726e-02,\n",
       "        -1.01242284e+00],\n",
       "       [ 4.73996980e-02, -2.38211149e-01, -3.14407461e-01,\n",
       "        -6.50951448e-01, -8.75866909e-01, -6.68027645e-01,\n",
       "        -8.28021746e-01, -8.20949061e-01, -8.69553897e-01,\n",
       "         9.87729597e-01],\n",
       "       [ 3.81258440e-01, -9.94881856e-01, -3.07488959e-03,\n",
       "        -6.97533069e-01, -6.89090767e-01, -8.19258639e-01,\n",
       "        -8.52212823e-01, -7.48532101e-01, -8.69553897e-01,\n",
       "        -1.01242284e+00],\n",
       "       [-6.87089535e-01,  1.40124205e-01, -4.38940489e-01,\n",
       "         8.26351378e-01,  1.99369382e+00,  2.37759652e+00,\n",
       "         1.39755735e+00,  2.27125515e+00,  2.16434903e+00,\n",
       "        -1.01242284e+00],\n",
       "       [ 3.14486692e-01, -2.38211149e-01, -4.38940489e-01,\n",
       "         6.00097792e-01,  8.30587845e-01,  6.92234458e-02,\n",
       "         1.39621340e-01,  5.62214884e-01,  3.27306891e-01,\n",
       "         9.87729597e-01],\n",
       "       [-1.28803527e+00,  5.18459559e-01, -3.14407461e-01,\n",
       "         5.66825206e-01, -3.57987606e-01, -4.07574268e-01,\n",
       "         1.88003495e-01, -3.93688994e-01, -1.04119672e-01,\n",
       "         9.87729597e-01],\n",
       "       [-6.20317786e-01,  8.96794913e-01, -3.76673975e-01,\n",
       "         1.74208689e-01, -8.33417786e-01, -6.95333241e-01,\n",
       "        -7.07066360e-01, -7.99223973e-01, -8.41719925e-01,\n",
       "         9.87729597e-01],\n",
       "       [-1.75543751e+00,  1.40124205e-01, -4.38940489e-01,\n",
       "         1.00602334e+00,  4.00578226e+00,  2.49732106e+00,\n",
       "         2.05071643e+00,  3.46613500e+00,  3.27770790e+00,\n",
       "         9.87729597e-01],\n",
       "       [ 9.15432428e-01,  2.03180097e+00,  6.81856767e-01,\n",
       "        -1.23654897e+00, -1.03717358e+00, -8.38162513e-01,\n",
       "        -8.52212823e-01, -9.94749767e-01, -8.97387869e-01,\n",
       "        -1.01242284e+00],\n",
       "       [-6.20317786e-01,  8.96794913e-01, -4.38940489e-01,\n",
       "         8.19696861e-01,  4.99484683e-01,  1.31477871e+00,\n",
       "         1.22821981e+00,  8.22915942e-01,  1.30149590e+00,\n",
       "        -1.01242284e+00]])"
      ]
     },
     "execution_count": 117,
     "metadata": {},
     "output_type": "execute_result"
    }
   ],
   "source": [
    "X_test=scaler.transform(X_test)\n",
    "X_test"
   ]
  },
  {
   "cell_type": "markdown",
   "metadata": {},
   "source": [
    "## Model Training"
   ]
  },
  {
   "cell_type": "code",
   "execution_count": 120,
   "metadata": {},
   "outputs": [
    {
     "data": {
      "text/plain": [
       "LinearRegression()"
      ]
     },
     "execution_count": 120,
     "metadata": {},
     "output_type": "execute_result"
    }
   ],
   "source": [
    "from sklearn.linear_model import LinearRegression\n",
    "reg=LinearRegression()\n",
    "reg"
   ]
  },
  {
   "cell_type": "code",
   "execution_count": 121,
   "metadata": {},
   "outputs": [
    {
     "data": {
      "text/plain": [
       "LinearRegression()"
      ]
     },
     "execution_count": 121,
     "metadata": {},
     "output_type": "execute_result"
    }
   ],
   "source": [
    "reg.fit(X_train,Y_train)"
   ]
  },
  {
   "cell_type": "code",
   "execution_count": 122,
   "metadata": {},
   "outputs": [
    {
     "name": "stdout",
     "output_type": "stream",
     "text": [
      "[[-1.5017453  -0.64229443 -0.22805114  0.92880812 -0.10810077  0.30221438\n",
      "   0.36273807  0.51476012 -0.5060751   0.17689905]]\n"
     ]
    }
   ],
   "source": [
    "print(reg.coef_)"
   ]
  },
  {
   "cell_type": "code",
   "execution_count": 123,
   "metadata": {},
   "outputs": [
    {
     "name": "stdout",
     "output_type": "stream",
     "text": [
      "[32.01851852]\n"
     ]
    }
   ],
   "source": [
    "print(reg.intercept_)"
   ]
  },
  {
   "cell_type": "code",
   "execution_count": 125,
   "metadata": {},
   "outputs": [
    {
     "data": {
      "text/plain": [
       "array([[31.87835788],\n",
       "       [33.55199848],\n",
       "       [33.77692716],\n",
       "       [25.72691651],\n",
       "       [32.43386689],\n",
       "       [33.5961062 ],\n",
       "       [31.67314652],\n",
       "       [34.60028541],\n",
       "       [32.91026932],\n",
       "       [33.52521116],\n",
       "       [34.02449982],\n",
       "       [32.88192322],\n",
       "       [35.79851524],\n",
       "       [31.97710154],\n",
       "       [34.12410497],\n",
       "       [33.44708989],\n",
       "       [27.52817559],\n",
       "       [36.1285286 ],\n",
       "       [32.68911992],\n",
       "       [24.6613159 ],\n",
       "       [32.10673211],\n",
       "       [32.47087044],\n",
       "       [33.11060987],\n",
       "       [33.21669011],\n",
       "       [30.06057551],\n",
       "       [34.02671515],\n",
       "       [33.97025267],\n",
       "       [35.27573609],\n",
       "       [31.89227089],\n",
       "       [34.63511512],\n",
       "       [34.05186368],\n",
       "       [33.98080081],\n",
       "       [32.57084694],\n",
       "       [32.7722343 ],\n",
       "       [31.03907623],\n",
       "       [28.7217524 ],\n",
       "       [32.24822288],\n",
       "       [31.97190206],\n",
       "       [33.35215667],\n",
       "       [33.87477205],\n",
       "       [34.25270449],\n",
       "       [33.94695402],\n",
       "       [34.09160968],\n",
       "       [37.31793804],\n",
       "       [32.76693726],\n",
       "       [36.7922541 ],\n",
       "       [35.48796121],\n",
       "       [35.4865199 ],\n",
       "       [30.63451385],\n",
       "       [30.92279523],\n",
       "       [32.34133421],\n",
       "       [39.33192127],\n",
       "       [32.04018042],\n",
       "       [35.14562698],\n",
       "       [27.56935026],\n",
       "       [36.89080771],\n",
       "       [36.63651664],\n",
       "       [34.08808302],\n",
       "       [27.6440871 ],\n",
       "       [32.3251443 ],\n",
       "       [32.5172982 ],\n",
       "       [31.34632109],\n",
       "       [24.23515366],\n",
       "       [36.08455777],\n",
       "       [35.86696512],\n",
       "       [29.30539704],\n",
       "       [29.74537169],\n",
       "       [31.35579059],\n",
       "       [36.0074568 ],\n",
       "       [28.15569481],\n",
       "       [29.72974749],\n",
       "       [31.62484316],\n",
       "       [31.35206541],\n",
       "       [30.83121731],\n",
       "       [34.73267681],\n",
       "       [32.63698935],\n",
       "       [34.22647394],\n",
       "       [32.43454565],\n",
       "       [36.96500231],\n",
       "       [27.34741878],\n",
       "       [33.61023888]])"
      ]
     },
     "execution_count": 125,
     "metadata": {},
     "output_type": "execute_result"
    }
   ],
   "source": [
    "#prediction for test data\n",
    "reg_pred=reg.predict(X_test)\n",
    "reg_pred"
   ]
  },
  {
   "cell_type": "markdown",
   "metadata": {},
   "source": [
    "## Assumptions of Linear Regression"
   ]
  },
  {
   "cell_type": "code",
   "execution_count": 138,
   "metadata": {},
   "outputs": [
    {
     "data": {
      "text/plain": [
       "Text(0, 0.5, 'Test predicted Value')"
      ]
     },
     "execution_count": 138,
     "metadata": {},
     "output_type": "execute_result"
    },
    {
     "data": {
      "image/png": "[encoded data removed]",
      "text/plain": [
       "<Figure size 720x720 with 1 Axes>"
      ]
     },
     "metadata": {
      "needs_background": "light"
     },
     "output_type": "display_data"
    }
   ],
   "source": [
    "#relation between truth value and Predicted value\n",
    "plt.figure(figsize=(10,10))\n",
    "plt.scatter(Y_test,reg_pred)\n",
    "plt.xlabel('Test Truth Value')\n",
    "plt.ylabel('Test predicted Value')"
   ]
  },
  {
   "cell_type": "code",
   "execution_count": 140,
   "metadata": {},
   "outputs": [
    {
     "data": {
      "text/html": [
       "<div>\n",
       "<style scoped>\n",
       "    .dataframe tbody tr th:only-of-type {\n",
       "        vertical-align: middle;\n",
       "    }\n",
       "\n",
       "    .dataframe tbody tr th {\n",
       "        vertical-align: top;\n",
       "    }\n",
       "\n",
       "    .dataframe thead th {\n",
       "        text-align: right;\n",
       "    }\n",
       "</style>\n",
       "<table border=\"1\" class=\"dataframe\">\n",
       "  <thead>\n",
       "    <tr style=\"text-align: right;\">\n",
       "      <th></th>\n",
       "      <th>Temperature</th>\n",
       "    </tr>\n",
       "  </thead>\n",
       "  <tbody>\n",
       "    <tr>\n",
       "      <th>46</th>\n",
       "      <td>-2.878358</td>\n",
       "    </tr>\n",
       "    <tr>\n",
       "      <th>225</th>\n",
       "      <td>-4.551998</td>\n",
       "    </tr>\n",
       "    <tr>\n",
       "      <th>180</th>\n",
       "      <td>2.223073</td>\n",
       "    </tr>\n",
       "    <tr>\n",
       "      <th>116</th>\n",
       "      <td>0.273083</td>\n",
       "    </tr>\n",
       "    <tr>\n",
       "      <th>124</th>\n",
       "      <td>-2.433867</td>\n",
       "    </tr>\n",
       "    <tr>\n",
       "      <th>...</th>\n",
       "      <td>...</td>\n",
       "    </tr>\n",
       "    <tr>\n",
       "      <th>127</th>\n",
       "      <td>0.773526</td>\n",
       "    </tr>\n",
       "    <tr>\n",
       "      <th>241</th>\n",
       "      <td>-8.434546</td>\n",
       "    </tr>\n",
       "    <tr>\n",
       "      <th>207</th>\n",
       "      <td>-3.965002</td>\n",
       "    </tr>\n",
       "    <tr>\n",
       "      <th>102</th>\n",
       "      <td>2.652581</td>\n",
       "    </tr>\n",
       "    <tr>\n",
       "      <th>78</th>\n",
       "      <td>2.389761</td>\n",
       "    </tr>\n",
       "  </tbody>\n",
       "</table>\n",
       "<p>81 rows × 1 columns</p>\n",
       "</div>"
      ],
      "text/plain": [
       "     Temperature\n",
       "46     -2.878358\n",
       "225    -4.551998\n",
       "180     2.223073\n",
       "116     0.273083\n",
       "124    -2.433867\n",
       "..           ...\n",
       "127     0.773526\n",
       "241    -8.434546\n",
       "207    -3.965002\n",
       "102     2.652581\n",
       "78      2.389761\n",
       "\n",
       "[81 rows x 1 columns]"
      ]
     },
     "execution_count": 140,
     "metadata": {},
     "output_type": "execute_result"
    }
   ],
   "source": [
    "#Residuals\n",
    "residuals=Y_test-reg_pred\n",
    "residuals"
   ]
  },
  {
   "cell_type": "code",
   "execution_count": 142,
   "metadata": {
    "scrolled": true
   },
   "outputs": [
    {
     "data": {
      "text/plain": [
       "<matplotlib.collections.PathCollection at 0x2a88bc4c220>"
      ]
     },
     "execution_count": 142,
     "metadata": {},
     "output_type": "execute_result"
    },
    {
     "data": {
      "image/png": "[encoded data removed]",
      "text/plain": [
       "<Figure size 720x720 with 1 Axes>"
      ]
     },
     "metadata": {
      "needs_background": "light"
     },
     "output_type": "display_data"
    }
   ],
   "source": [
    "## Scatter plot with predictions and residuals\n",
    "plt.figure(figsize=(10,10))\n",
    "plt.scatter(reg_pred,residuals)"
   ]
  },
  {
   "cell_type": "code",
   "execution_count": 143,
   "metadata": {},
   "outputs": [],
   "source": [
    "## Performance Metrics"
   ]
  },
  {
   "cell_type": "code",
   "execution_count": 144,
   "metadata": {},
   "outputs": [],
   "source": [
    "from sklearn.metrics import mean_squared_error\n",
    "from sklearn.metrics import mean_absolute_error"
   ]
  },
  {
   "cell_type": "code",
   "execution_count": 145,
   "metadata": {},
   "outputs": [
    {
     "name": "stdout",
     "output_type": "stream",
     "text": [
      "7.936814641352031\n",
      "2.1430423395896914\n",
      "2.8172352832789866\n"
     ]
    }
   ],
   "source": [
    "print(mean_squared_error(Y_test,reg_pred))\n",
    "print(mean_absolute_error(Y_test,reg_pred))\n",
    "print(np.sqrt(mean_squared_error(Y_test,reg_pred)))\n"
   ]
  },
  {
   "cell_type": "code",
   "execution_count": 147,
   "metadata": {},
   "outputs": [
    {
     "data": {
      "text/plain": [
       "0.4177965512632693"
      ]
     },
     "execution_count": 147,
     "metadata": {},
     "output_type": "execute_result"
    }
   ],
   "source": [
    "# R-square and adjusted R square\n",
    "from sklearn.metrics import r2_score\n",
    "score=r2_score(Y_test,reg_pred)\n",
    "score"
   ]
  },
  {
   "cell_type": "code",
   "execution_count": 148,
   "metadata": {},
   "outputs": [
    {
     "data": {
      "text/plain": [
       "0.33462463001516496"
      ]
     },
     "execution_count": 148,
     "metadata": {},
     "output_type": "execute_result"
    }
   ],
   "source": [
    "##Adjusted R-square\n",
    "1-(1-score)*(len(Y_test)-1)/(len(Y_test)-X_test.shape[1]-1)"
   ]
  },
  {
   "cell_type": "code",
   "execution_count": 149,
   "metadata": {},
   "outputs": [
    {
     "data": {
      "text/plain": [
       "Ridge(alpha=1)"
      ]
     },
     "execution_count": 149,
     "metadata": {},
     "output_type": "execute_result"
    }
   ],
   "source": [
    "## Ridge Regression Algorithm\n",
    "from sklearn.linear_model import Ridge\n",
    "ridge=Ridge(alpha=1)\n",
    "ridge.fit(X_train,Y_train)"
   ]
  },
  {
   "cell_type": "code",
   "execution_count": 150,
   "metadata": {},
   "outputs": [
    {
     "data": {
      "text/plain": [
       "array([[-1.48317807, -0.6411185 , -0.22950611,  0.93766237,  0.01157397,\n",
       "         0.34039935,  0.28855835,  0.29708428, -0.37704398,  0.17369952]])"
      ]
     },
     "execution_count": 150,
     "metadata": {},
     "output_type": "execute_result"
    }
   ],
   "source": [
    "ridge.coef_"
   ]
  },
  {
   "cell_type": "code",
   "execution_count": 151,
   "metadata": {},
   "outputs": [
    {
     "data": {
      "text/plain": [
       "array([32.01851852])"
      ]
     },
     "execution_count": 151,
     "metadata": {},
     "output_type": "execute_result"
    }
   ],
   "source": [
    "ridge.intercept_"
   ]
  },
  {
   "cell_type": "code",
   "execution_count": 152,
   "metadata": {},
   "outputs": [
    {
     "data": {
      "text/plain": [
       "array([[31.8822756 ],\n",
       "       [33.5438447 ],\n",
       "       [33.80879591],\n",
       "       [25.75106028],\n",
       "       [32.42222698],\n",
       "       [33.62491361],\n",
       "       [31.64516402],\n",
       "       [34.63845705],\n",
       "       [32.92837434],\n",
       "       [33.49761804],\n",
       "       [33.99353167],\n",
       "       [32.88953015],\n",
       "       [35.78623103],\n",
       "       [31.95594322],\n",
       "       [34.04991003],\n",
       "       [33.46169407],\n",
       "       [27.55255037],\n",
       "       [36.1074258 ],\n",
       "       [32.6830089 ],\n",
       "       [24.65172367],\n",
       "       [32.08348159],\n",
       "       [32.42797473],\n",
       "       [33.10733086],\n",
       "       [33.18780552],\n",
       "       [30.06403217],\n",
       "       [34.04581485],\n",
       "       [33.95939045],\n",
       "       [35.2620418 ],\n",
       "       [31.89157555],\n",
       "       [34.58573007],\n",
       "       [34.05124985],\n",
       "       [33.94484211],\n",
       "       [32.53900709],\n",
       "       [32.77188186],\n",
       "       [30.96852437],\n",
       "       [28.73685859],\n",
       "       [32.22460372],\n",
       "       [31.98062172],\n",
       "       [33.35726206],\n",
       "       [33.85336821],\n",
       "       [34.28756027],\n",
       "       [33.94742555],\n",
       "       [34.0984306 ],\n",
       "       [37.2407982 ],\n",
       "       [32.77403778],\n",
       "       [36.85415064],\n",
       "       [35.47198003],\n",
       "       [35.47979191],\n",
       "       [30.62903333],\n",
       "       [30.93025687],\n",
       "       [32.34806321],\n",
       "       [39.36202036],\n",
       "       [32.04081155],\n",
       "       [35.13519618],\n",
       "       [27.60013406],\n",
       "       [36.93786397],\n",
       "       [36.65494257],\n",
       "       [34.01955088],\n",
       "       [27.6694677 ],\n",
       "       [32.30355284],\n",
       "       [32.50713209],\n",
       "       [31.34702582],\n",
       "       [24.25444699],\n",
       "       [36.0597049 ],\n",
       "       [35.92345591],\n",
       "       [29.33797959],\n",
       "       [29.71034135],\n",
       "       [31.34349919],\n",
       "       [36.04332521],\n",
       "       [28.17453027],\n",
       "       [29.75515404],\n",
       "       [31.64791559],\n",
       "       [31.34179479],\n",
       "       [30.83439855],\n",
       "       [34.74186271],\n",
       "       [32.65687895],\n",
       "       [34.20539494],\n",
       "       [32.41453623],\n",
       "       [37.03002142],\n",
       "       [27.36593381],\n",
       "       [33.61858763]])"
      ]
     },
     "execution_count": 152,
     "metadata": {},
     "output_type": "execute_result"
    }
   ],
   "source": [
    "#Prediction for test data\n",
    "ridge_pred=ridge.predict(X_test)\n",
    "ridge_pred"
   ]
  },
  {
   "cell_type": "markdown",
   "metadata": {},
   "source": [
    "## Assumptions of ridge Regression\n"
   ]
  },
  {
   "cell_type": "code",
   "execution_count": 154,
   "metadata": {},
   "outputs": [
    {
     "data": {
      "text/plain": [
       "Text(0, 0.5, 'Test predicted Value')"
      ]
     },
     "execution_count": 154,
     "metadata": {},
     "output_type": "execute_result"
    },
    {
     "data": {
      "image/png": "[encoded data removed]",
      "text/plain": [
       "<Figure size 720x720 with 1 Axes>"
      ]
     },
     "metadata": {
      "needs_background": "light"
     },
     "output_type": "display_data"
    }
   ],
   "source": [
    "#relation between truth value and predicted value\n",
    "plt.figure(figsize=(10,10))\n",
    "plt.scatter(Y_test,ridge_pred)\n",
    "plt.xlabel('Test Truth Value')\n",
    "plt.ylabel('Test predicted Value')"
   ]
  },
  {
   "cell_type": "code",
   "execution_count": 157,
   "metadata": {},
   "outputs": [
    {
     "data": {
      "text/html": [
       "<div>\n",
       "<style scoped>\n",
       "    .dataframe tbody tr th:only-of-type {\n",
       "        vertical-align: middle;\n",
       "    }\n",
       "\n",
       "    .dataframe tbody tr th {\n",
       "        vertical-align: top;\n",
       "    }\n",
       "\n",
       "    .dataframe thead th {\n",
       "        text-align: right;\n",
       "    }\n",
       "</style>\n",
       "<table border=\"1\" class=\"dataframe\">\n",
       "  <thead>\n",
       "    <tr style=\"text-align: right;\">\n",
       "      <th></th>\n",
       "      <th>Temperature</th>\n",
       "    </tr>\n",
       "  </thead>\n",
       "  <tbody>\n",
       "    <tr>\n",
       "      <th>46</th>\n",
       "      <td>-2.882276</td>\n",
       "    </tr>\n",
       "    <tr>\n",
       "      <th>225</th>\n",
       "      <td>-4.543845</td>\n",
       "    </tr>\n",
       "    <tr>\n",
       "      <th>180</th>\n",
       "      <td>2.191204</td>\n",
       "    </tr>\n",
       "    <tr>\n",
       "      <th>116</th>\n",
       "      <td>0.248940</td>\n",
       "    </tr>\n",
       "    <tr>\n",
       "      <th>124</th>\n",
       "      <td>-2.422227</td>\n",
       "    </tr>\n",
       "    <tr>\n",
       "      <th>...</th>\n",
       "      <td>...</td>\n",
       "    </tr>\n",
       "    <tr>\n",
       "      <th>127</th>\n",
       "      <td>0.794605</td>\n",
       "    </tr>\n",
       "    <tr>\n",
       "      <th>241</th>\n",
       "      <td>-8.414536</td>\n",
       "    </tr>\n",
       "    <tr>\n",
       "      <th>207</th>\n",
       "      <td>-4.030021</td>\n",
       "    </tr>\n",
       "    <tr>\n",
       "      <th>102</th>\n",
       "      <td>2.634066</td>\n",
       "    </tr>\n",
       "    <tr>\n",
       "      <th>78</th>\n",
       "      <td>2.381412</td>\n",
       "    </tr>\n",
       "  </tbody>\n",
       "</table>\n",
       "<p>81 rows × 1 columns</p>\n",
       "</div>"
      ],
      "text/plain": [
       "     Temperature\n",
       "46     -2.882276\n",
       "225    -4.543845\n",
       "180     2.191204\n",
       "116     0.248940\n",
       "124    -2.422227\n",
       "..           ...\n",
       "127     0.794605\n",
       "241    -8.414536\n",
       "207    -4.030021\n",
       "102     2.634066\n",
       "78      2.381412\n",
       "\n",
       "[81 rows x 1 columns]"
      ]
     },
     "execution_count": 157,
     "metadata": {},
     "output_type": "execute_result"
    }
   ],
   "source": [
    "residual = Y_test-ridge_pred\n",
    "residual"
   ]
  },
  {
   "cell_type": "code",
   "execution_count": 158,
   "metadata": {},
   "outputs": [
    {
     "data": {
      "text/plain": [
       "<matplotlib.collections.PathCollection at 0x2a88a192ee0>"
      ]
     },
     "execution_count": 158,
     "metadata": {},
     "output_type": "execute_result"
    },
    {
     "data": {
      "image/png": "[encoded data removed]",
      "text/plain": [
       "<Figure size 720x720 with 1 Axes>"
      ]
     },
     "metadata": {
      "needs_background": "light"
     },
     "output_type": "display_data"
    }
   ],
   "source": [
    "#Scatter plot with predictions and residuals\n",
    "plt.figure(figsize=(10,10))\n",
    "plt.scatter(ridge_pred,residuals)"
   ]
  },
  {
   "cell_type": "code",
   "execution_count": 159,
   "metadata": {},
   "outputs": [],
   "source": [
    "#performance metrics"
   ]
  },
  {
   "cell_type": "code",
   "execution_count": 160,
   "metadata": {},
   "outputs": [
    {
     "name": "stdout",
     "output_type": "stream",
     "text": [
      "7.9083123853530255\n",
      "2.140058450679967\n",
      "2.8121721827357984\n"
     ]
    }
   ],
   "source": [
    "print(mean_squared_error(Y_test,ridge_pred))\n",
    "print(mean_absolute_error(Y_test,ridge_pred))\n",
    "print(np.sqrt(mean_squared_error(Y_test,ridge_pred)))\n"
   ]
  },
  {
   "cell_type": "code",
   "execution_count": 161,
   "metadata": {},
   "outputs": [
    {
     "data": {
      "text/plain": [
       "0.419887328544742"
      ]
     },
     "execution_count": 161,
     "metadata": {},
     "output_type": "execute_result"
    }
   ],
   "source": [
    "# R-square and adjusted R square\n",
    "from sklearn.metrics import r2_score\n",
    "score=r2_score(Y_test,ridge_pred)\n",
    "score"
   ]
  },
  {
   "cell_type": "code",
   "execution_count": 162,
   "metadata": {},
   "outputs": [
    {
     "data": {
      "text/plain": [
       "0.33701408976541936"
      ]
     },
     "execution_count": 162,
     "metadata": {},
     "output_type": "execute_result"
    }
   ],
   "source": [
    "##Adjusted R-square\n",
    "1-(1-score)*(len(Y_test)-1)/(len(Y_test)-X_test.shape[1]-1)"
   ]
  },
  {
   "cell_type": "markdown",
   "metadata": {},
   "source": [
    "## Lasso Regression Algorithm"
   ]
  },
  {
   "cell_type": "code",
   "execution_count": 163,
   "metadata": {},
   "outputs": [
    {
     "data": {
      "text/plain": [
       "Lasso(alpha=1)"
      ]
     },
     "execution_count": 163,
     "metadata": {},
     "output_type": "execute_result"
    }
   ],
   "source": [
    "from sklearn.linear_model import Lasso\n",
    "lasso=Lasso(alpha=1)\n",
    "lasso.fit(X_train,Y_train)"
   ]
  },
  {
   "cell_type": "code",
   "execution_count": 164,
   "metadata": {},
   "outputs": [
    {
     "data": {
      "text/plain": [
       "array([-0.91280146, -0.        , -0.        ,  0.90173726,  0.        ,\n",
       "        0.        ,  0.        ,  0.        ,  0.        ,  0.        ])"
      ]
     },
     "execution_count": 164,
     "metadata": {},
     "output_type": "execute_result"
    }
   ],
   "source": [
    "lasso.coef_"
   ]
  },
  {
   "cell_type": "code",
   "execution_count": 165,
   "metadata": {},
   "outputs": [
    {
     "data": {
      "text/plain": [
       "array([32.01851852])"
      ]
     },
     "execution_count": 165,
     "metadata": {},
     "output_type": "execute_result"
    }
   ],
   "source": [
    "lasso.intercept_"
   ]
  },
  {
   "cell_type": "code",
   "execution_count": 166,
   "metadata": {},
   "outputs": [],
   "source": [
    "#Prediction for test data\n",
    "lasso_pred=lasso.predict(X_test)"
   ]
  },
  {
   "cell_type": "code",
   "execution_count": 167,
   "metadata": {},
   "outputs": [
    {
     "data": {
      "text/plain": [
       "array([31.95266578, 33.58063844, 33.17199487, 29.2300088 , 32.11434059,\n",
       "       33.00209116, 32.22012359, 33.59769723, 32.74029189, 33.03646764,\n",
       "       32.4140298 , 32.63133753, 34.4768768 , 31.56013792, 32.83278845,\n",
       "       33.36084355, 29.21895063, 34.86185996, 32.35942318, 29.52498257,\n",
       "       32.34519365, 32.18977836, 32.58238943, 31.77830553, 31.09963378,\n",
       "       33.24494547, 32.87985037, 34.11623824, 32.00727241, 31.9424675 ,\n",
       "       33.25188919, 33.145422  , 32.79267024, 32.5523863 , 31.34728674,\n",
       "       29.96302828, 32.32590659, 32.22458014, 33.3728448 , 33.23637448,\n",
       "       33.25694673, 34.12729641, 33.23294422, 33.78620381, 32.89913743,\n",
       "       34.65406632, 33.97539458, 33.74359843, 31.6914675 , 31.35705972,\n",
       "       32.23058076, 35.54841851, 32.12351258, 33.62864345, 28.94703628,\n",
       "       34.4611032 , 34.54605505, 32.48603732, 28.79230519, 32.17340377,\n",
       "       31.99784153, 31.39709472, 29.07905006, 34.22896496, 33.41990672,\n",
       "       30.14750361, 31.32037177, 31.40215226, 34.10235082, 30.40484634,\n",
       "       31.15938115, 31.99784153, 31.38826483, 31.0415137 , 33.39084668,\n",
       "       32.27258515, 33.7053664 , 32.74183597, 34.52805317, 30.06786819,\n",
       "       33.3238967 ])"
      ]
     },
     "execution_count": 167,
     "metadata": {},
     "output_type": "execute_result"
    }
   ],
   "source": [
    "lasso_pred"
   ]
  },
  {
   "cell_type": "code",
   "execution_count": 168,
   "metadata": {},
   "outputs": [
    {
     "data": {
      "text/plain": [
       "Text(0, 0.5, 'Test predicted Value')"
      ]
     },
     "execution_count": 168,
     "metadata": {},
     "output_type": "execute_result"
    },
    {
     "data": {
      "image/png": "[encoded data removed]",
      "text/plain": [
       "<Figure size 720x720 with 1 Axes>"
      ]
     },
     "metadata": {
      "needs_background": "light"
     },
     "output_type": "display_data"
    }
   ],
   "source": [
    "##Assumptions of Lasso Linear Regression\n",
    "plt.figure(figsize=(10,10))\n",
    "plt.scatter(Y_test,lasso_pred)\n",
    "plt.xlabel('Test Truth Value')\n",
    "plt.ylabel('Test predicted Value')"
   ]
  },
  {
   "cell_type": "code",
   "execution_count": 170,
   "metadata": {},
   "outputs": [],
   "source": [
    "lasso_pred=lasso_pred.reshape(81,1)"
   ]
  },
  {
   "cell_type": "code",
   "execution_count": 171,
   "metadata": {},
   "outputs": [],
   "source": [
    "residual=Y_test-lasso_pred"
   ]
  },
  {
   "cell_type": "code",
   "execution_count": 172,
   "metadata": {},
   "outputs": [
    {
     "data": {
      "text/plain": [
       "<matplotlib.collections.PathCollection at 0x2a88bb10ee0>"
      ]
     },
     "execution_count": 172,
     "metadata": {},
     "output_type": "execute_result"
    },
    {
     "data": {
      "image/png": "[encoded data removed]",
      "text/plain": [
       "<Figure size 720x720 with 1 Axes>"
      ]
     },
     "metadata": {
      "needs_background": "light"
     },
     "output_type": "display_data"
    }
   ],
   "source": [
    "#Scatter plot with predictions and residuals\n",
    "plt.figure(figsize=(10,10))\n",
    "plt.scatter(lasso_pred,residuals)"
   ]
  },
  {
   "cell_type": "code",
   "execution_count": 173,
   "metadata": {},
   "outputs": [
    {
     "name": "stdout",
     "output_type": "stream",
     "text": [
      "8.47662671402413\n",
      "2.3529241290496663\n",
      "2.9114647025207314\n"
     ]
    }
   ],
   "source": [
    "#performance metrics\n",
    "print(mean_squared_error(Y_test,lasso_pred))\n",
    "print(mean_absolute_error(Y_test,lasso_pred))\n",
    "print(np.sqrt(mean_squared_error(Y_test,lasso_pred)))\n"
   ]
  },
  {
   "cell_type": "code",
   "execution_count": 175,
   "metadata": {},
   "outputs": [
    {
     "data": {
      "text/plain": [
       "0.3781987447651851"
      ]
     },
     "execution_count": 175,
     "metadata": {},
     "output_type": "execute_result"
    }
   ],
   "source": [
    "# R-square and adjusted R square\n",
    "from sklearn.metrics import r2_score\n",
    "score=r2_score(Y_test,lasso_pred)\n",
    "score"
   ]
  },
  {
   "cell_type": "code",
   "execution_count": 176,
   "metadata": {},
   "outputs": [
    {
     "data": {
      "text/plain": [
       "0.2893699940173544"
      ]
     },
     "execution_count": 176,
     "metadata": {},
     "output_type": "execute_result"
    }
   ],
   "source": [
    "##Adjusted R-square\n",
    "1-(1-score)*(len(Y_test)-1)/(len(Y_test)-X_test.shape[1]-1)"
   ]
  },
  {
   "cell_type": "markdown",
   "metadata": {},
   "source": [
    "## ElasticNet Rgression Algorithm\n"
   ]
  },
  {
   "cell_type": "code",
   "execution_count": 179,
   "metadata": {},
   "outputs": [
    {
     "data": {
      "text/plain": [
       "ElasticNet()"
      ]
     },
     "execution_count": 179,
     "metadata": {},
     "output_type": "execute_result"
    }
   ],
   "source": [
    "from sklearn.linear_model import ElasticNet\n",
    "elastic=ElasticNet()\n",
    "elastic.fit(X_train,Y_train)"
   ]
  },
  {
   "cell_type": "code",
   "execution_count": 180,
   "metadata": {},
   "outputs": [],
   "source": [
    "#Prediction for test data\n",
    "el_pred=elastic.predict(X_test)"
   ]
  },
  {
   "cell_type": "code",
   "execution_count": 181,
   "metadata": {},
   "outputs": [
    {
     "data": {
      "text/plain": [
       "Text(0, 0.5, 'Test predicted Value')"
      ]
     },
     "execution_count": 181,
     "metadata": {},
     "output_type": "execute_result"
    },
    {
     "data": {
      "image/png": "[encoded data removed]",
      "text/plain": [
       "<Figure size 720x720 with 1 Axes>"
      ]
     },
     "metadata": {
      "needs_background": "light"
     },
     "output_type": "display_data"
    }
   ],
   "source": [
    "#Assumptions of ElasticNet regression\n",
    "plt.figure(figsize=(10,10))\n",
    "plt.scatter(Y_test,el_pred)\n",
    "plt.xlabel('Test Truth Value')\n",
    "plt.ylabel('Test predicted Value')"
   ]
  },
  {
   "cell_type": "code",
   "execution_count": 186,
   "metadata": {},
   "outputs": [],
   "source": [
    "el_pred=el_pred.reshape(81,1)"
   ]
  },
  {
   "cell_type": "code",
   "execution_count": 187,
   "metadata": {},
   "outputs": [],
   "source": [
    "#residuals\n",
    "residuals=Y_test- el_pred"
   ]
  },
  {
   "cell_type": "code",
   "execution_count": 188,
   "metadata": {},
   "outputs": [
    {
     "data": {
      "text/plain": [
       "<matplotlib.collections.PathCollection at 0x2a88baccfd0>"
      ]
     },
     "execution_count": 188,
     "metadata": {},
     "output_type": "execute_result"
    },
    {
     "data": {
      "image/png": "[encoded data removed]",
      "text/plain": [
       "<Figure size 720x720 with 1 Axes>"
      ]
     },
     "metadata": {
      "needs_background": "light"
     },
     "output_type": "display_data"
    }
   ],
   "source": [
    "#Scatter plot with predictions and residuals\n",
    "plt.figure(figsize=(10,10))\n",
    "plt.scatter(el_pred,residuals)"
   ]
  },
  {
   "cell_type": "code",
   "execution_count": 189,
   "metadata": {},
   "outputs": [
    {
     "name": "stdout",
     "output_type": "stream",
     "text": [
      "7.745090293519188\n",
      "2.2553040698257694\n",
      "2.783000232396539\n"
     ]
    }
   ],
   "source": [
    "#performance metrics\n",
    "print(mean_squared_error(Y_test,el_pred))\n",
    "print(mean_absolute_error(Y_test,el_pred))\n",
    "print(np.sqrt(mean_squared_error(Y_test,el_pred)))"
   ]
  },
  {
   "cell_type": "code",
   "execution_count": 191,
   "metadata": {},
   "outputs": [
    {
     "data": {
      "text/plain": [
       "0.431860452407377"
      ]
     },
     "execution_count": 191,
     "metadata": {},
     "output_type": "execute_result"
    }
   ],
   "source": [
    "# R-square and adjusted R square\n",
    "from sklearn.metrics import r2_score\n",
    "score=r2_score(Y_test,el_pred)\n",
    "score"
   ]
  },
  {
   "cell_type": "code",
   "execution_count": 192,
   "metadata": {},
   "outputs": [
    {
     "data": {
      "text/plain": [
       "0.35069765989414514"
      ]
     },
     "execution_count": 192,
     "metadata": {},
     "output_type": "execute_result"
    }
   ],
   "source": [
    "##Adjusted R-square\n",
    "1-(1-score)*(len(Y_test)-1)/(len(Y_test)-X_test.shape[1]-1)"
   ]
  }
 ],
 "metadata": {
  "kernelspec": {
   "display_name": "Python 3",
   "language": "python",
   "name": "python3"
  },
  "language_info": {
   "codemirror_mode": {
    "name": "ipython",
    "version": 3
   },
   "file_extension": ".py",
   "mimetype": "text/x-python",
   "name": "python",
   "nbconvert_exporter": "python",
   "pygments_lexer": "ipython3",
   "version": "3.8.3"
  }
 },
 "nbformat": 4,
 "nbformat_minor": 4
}
